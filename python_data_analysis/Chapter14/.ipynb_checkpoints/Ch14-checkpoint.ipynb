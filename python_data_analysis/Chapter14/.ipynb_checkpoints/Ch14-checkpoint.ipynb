{
 "cells": [
  {
   "cell_type": "code",
   "execution_count": 1,
   "metadata": {
    "colab": {},
    "colab_type": "code",
    "id": "C__5qIgmawER",
    "outputId": "945e1e48-bd72-4ab3-e820-efbb4984d1da"
   },
   "outputs": [
    {
     "name": "stdout",
     "output_type": "stream",
     "text": [
      "Requirement already satisfied: dask-ml in /home/avinash/anaconda3/lib/python3.7/site-packages (1.2.0)\n",
      "Requirement already satisfied: dask-glm>=0.2.0 in /home/avinash/anaconda3/lib/python3.7/site-packages (from dask-ml) (0.2.0)\n",
      "Requirement already satisfied: pandas>=0.23.4 in /home/avinash/anaconda3/lib/python3.7/site-packages (from dask-ml) (0.24.2)\n",
      "Requirement already satisfied: packaging in /home/avinash/anaconda3/lib/python3.7/site-packages (from dask-ml) (19.0)\n",
      "Requirement already satisfied: numba in /home/avinash/anaconda3/lib/python3.7/site-packages (from dask-ml) (0.43.1)\n",
      "Requirement already satisfied: numpy>=1.17.3 in /home/avinash/anaconda3/lib/python3.7/site-packages (from dask-ml) (1.18.1)\n",
      "Requirement already satisfied: dask[array,dataframe]>=2.4.0 in /home/avinash/anaconda3/lib/python3.7/site-packages (from dask-ml) (2.9.2)\n",
      "Requirement already satisfied: scikit-learn>=0.21 in /home/avinash/anaconda3/lib/python3.7/site-packages (from dask-ml) (0.22.1)\n",
      "Requirement already satisfied: distributed>=2.4.0 in /home/avinash/anaconda3/lib/python3.7/site-packages (from dask-ml) (2.9.3)\n",
      "Requirement already satisfied: multipledispatch>=0.4.9 in /home/avinash/anaconda3/lib/python3.7/site-packages (from dask-ml) (0.6.0)\n",
      "Requirement already satisfied: scipy in /home/avinash/anaconda3/lib/python3.7/site-packages (from dask-ml) (1.2.1)\n",
      "Requirement already satisfied: cloudpickle>=0.2.2 in /home/avinash/anaconda3/lib/python3.7/site-packages (from dask-glm>=0.2.0->dask-ml) (0.8.0)\n",
      "Requirement already satisfied: pytz>=2011k in /home/avinash/anaconda3/lib/python3.7/site-packages (from pandas>=0.23.4->dask-ml) (2018.9)\n",
      "Requirement already satisfied: python-dateutil>=2.5.0 in /home/avinash/anaconda3/lib/python3.7/site-packages (from pandas>=0.23.4->dask-ml) (2.7.5)\n",
      "Requirement already satisfied: six in /home/avinash/anaconda3/lib/python3.7/site-packages (from packaging->dask-ml) (1.14.0)\n",
      "Requirement already satisfied: pyparsing>=2.0.2 in /home/avinash/anaconda3/lib/python3.7/site-packages (from packaging->dask-ml) (2.3.1)\n",
      "Requirement already satisfied: llvmlite>=0.28.0dev0 in /home/avinash/anaconda3/lib/python3.7/site-packages (from numba->dask-ml) (0.28.0)\n",
      "Requirement already satisfied: toolz>=0.7.3; extra == \"array\" in /home/avinash/anaconda3/lib/python3.7/site-packages (from dask[array,dataframe]>=2.4.0->dask-ml) (0.9.0)\n",
      "Requirement already satisfied: partd>=0.3.10; extra == \"dataframe\" in /home/avinash/anaconda3/lib/python3.7/site-packages (from dask[array,dataframe]>=2.4.0->dask-ml) (0.3.10)\n",
      "Requirement already satisfied: fsspec>=0.6.0; extra == \"dataframe\" in /home/avinash/anaconda3/lib/python3.7/site-packages (from dask[array,dataframe]>=2.4.0->dask-ml) (0.6.2)\n",
      "Requirement already satisfied: joblib>=0.11 in /home/avinash/anaconda3/lib/python3.7/site-packages (from scikit-learn>=0.21->dask-ml) (0.14.1)\n",
      "Requirement already satisfied: zict>=0.1.3 in /home/avinash/anaconda3/lib/python3.7/site-packages (from distributed>=2.4.0->dask-ml) (0.1.4)\n",
      "Requirement already satisfied: click>=6.6 in /home/avinash/anaconda3/lib/python3.7/site-packages (from distributed>=2.4.0->dask-ml) (7.0)\n",
      "Requirement already satisfied: pyyaml in /home/avinash/anaconda3/lib/python3.7/site-packages (from distributed>=2.4.0->dask-ml) (5.1)\n",
      "Requirement already satisfied: msgpack in /home/avinash/anaconda3/lib/python3.7/site-packages (from distributed>=2.4.0->dask-ml) (0.6.1)\n",
      "Requirement already satisfied: setuptools in /home/avinash/anaconda3/lib/python3.7/site-packages (from distributed>=2.4.0->dask-ml) (40.8.0)\n",
      "Requirement already satisfied: sortedcontainers!=2.0.0,!=2.0.1 in /home/avinash/anaconda3/lib/python3.7/site-packages (from distributed>=2.4.0->dask-ml) (2.1.0)\n",
      "Requirement already satisfied: psutil>=5.0 in /home/avinash/anaconda3/lib/python3.7/site-packages (from distributed>=2.4.0->dask-ml) (5.6.1)\n",
      "Requirement already satisfied: tornado>=5 in /home/avinash/anaconda3/lib/python3.7/site-packages (from distributed>=2.4.0->dask-ml) (6.0.2)\n",
      "Requirement already satisfied: tblib in /home/avinash/anaconda3/lib/python3.7/site-packages (from distributed>=2.4.0->dask-ml) (1.3.2)\n",
      "Requirement already satisfied: locket in /home/avinash/anaconda3/lib/python3.7/site-packages (from partd>=0.3.10; extra == \"dataframe\"->dask[array,dataframe]>=2.4.0->dask-ml) (0.2.0)\n",
      "Requirement already satisfied: heapdict in /home/avinash/anaconda3/lib/python3.7/site-packages (from zict>=0.1.3->distributed>=2.4.0->dask-ml) (1.0.0)\n"
     ]
    }
   ],
   "source": [
    "!pip install dask-ml"
   ]
  },
  {
   "cell_type": "code",
   "execution_count": 2,
   "metadata": {},
   "outputs": [
    {
     "name": "stdout",
     "output_type": "stream",
     "text": [
      "Requirement already satisfied: dask in /home/avinash/anaconda3/lib/python3.7/site-packages (2.9.2)\r\n"
     ]
    }
   ],
   "source": [
    "!pip install dask"
   ]
  },
  {
   "cell_type": "code",
   "execution_count": 0,
   "metadata": {
    "colab": {},
    "colab_type": "code",
    "id": "6qeaq3e2awFf",
    "outputId": "2b0dc82e-d614-48b9-ce75-756c73b9aba6"
   },
   "outputs": [
    {
     "name": "stdout",
     "output_type": "stream",
     "text": [
      "Requirement already satisfied: dask-ml[xgboost] in /home/avinash/anaconda3/lib/python3.7/site-packages (1.2.0)\n",
      "Requirement already satisfied: dask-glm>=0.2.0 in /home/avinash/anaconda3/lib/python3.7/site-packages (from dask-ml[xgboost]) (0.2.0)\n",
      "Collecting distributed>=2.4.0 (from dask-ml[xgboost])\n",
      "\u001b[?25l  Downloading https://files.pythonhosted.org/packages/81/b9/b0a57708039a09966296a16df67098fe00f464cefe7bd4f72981ae8879f6/distributed-2.9.3-py3-none-any.whl (588kB)\n",
      "\u001b[K    100% |████████████████████████████████| 593kB 538kB/s ta 0:00:01\n",
      "\u001b[?25hCollecting scikit-learn>=0.21 (from dask-ml[xgboost])\n",
      "\u001b[?25l  Downloading https://files.pythonhosted.org/packages/73/db/7d8204ddba84ab5d1e4fd1af8f82bbe39c589488bee71e45c662f4144010/scikit_learn-0.22.1-cp37-cp37m-manylinux1_x86_64.whl (7.0MB)\n",
      "\u001b[K    100% |████████████████████████████████| 7.0MB 336kB/s ta 0:00:01\n",
      "\u001b[?25hRequirement already satisfied: scipy in /home/avinash/anaconda3/lib/python3.7/site-packages (from dask-ml[xgboost]) (1.2.1)\n",
      "Requirement already satisfied: numba in /home/avinash/anaconda3/lib/python3.7/site-packages (from dask-ml[xgboost]) (0.43.1)\n",
      "Requirement already satisfied: multipledispatch>=0.4.9 in /home/avinash/anaconda3/lib/python3.7/site-packages (from dask-ml[xgboost]) (0.6.0)\n",
      "Collecting dask[array,dataframe]>=2.4.0 (from dask-ml[xgboost])\n",
      "\u001b[?25l  Downloading https://files.pythonhosted.org/packages/03/fb/d060d926b4e3af64b687f59f907435a9e8497a6f422c2e4aabcd47df2555/dask-2.9.2-py3-none-any.whl (780kB)\n",
      "\u001b[K    100% |████████████████████████████████| 788kB 438kB/s ta 0:00:01\n",
      "\u001b[?25hRequirement already satisfied: pandas>=0.23.4 in /home/avinash/anaconda3/lib/python3.7/site-packages (from dask-ml[xgboost]) (0.24.2)\n",
      "Requirement already satisfied: packaging in /home/avinash/anaconda3/lib/python3.7/site-packages (from dask-ml[xgboost]) (19.0)\n",
      "Collecting numpy>=1.17.3 (from dask-ml[xgboost])\n",
      "\u001b[?25l  Downloading https://files.pythonhosted.org/packages/63/0c/0261693cc3ad8e2b66e66dc2d2676a2cc17d3efb1c58a70db73754320e47/numpy-1.18.1-cp37-cp37m-manylinux1_x86_64.whl (20.1MB)\n",
      "\u001b[K    100% |████████████████████████████████| 20.1MB 194kB/s ta 0:00:01\n",
      "\u001b[?25hCollecting xgboost; extra == \"xgboost\" (from dask-ml[xgboost])\n",
      "\u001b[?25l  Downloading https://files.pythonhosted.org/packages/c1/24/5fe7237b2eca13ee0cfb100bec8c23f4e69ce9df852a64b0493d49dae4e0/xgboost-0.90-py2.py3-none-manylinux1_x86_64.whl (142.8MB)\n",
      "\u001b[K    100% |████████████████████████████████| 142.8MB 365kB/s ta 0:00:011\n",
      "\u001b[?25hCollecting dask-xgboost; extra == \"xgboost\" (from dask-ml[xgboost])\n",
      "  Downloading https://files.pythonhosted.org/packages/1c/bd/d69f0546e7652daa7717aa44ef5346e023e7dd6cc6a50e397872dee27add/dask_xgboost-0.1.9-py2.py3-none-any.whl\n",
      "Requirement already satisfied: cloudpickle>=0.2.2 in /home/avinash/anaconda3/lib/python3.7/site-packages (from dask-glm>=0.2.0->dask-ml[xgboost]) (0.8.0)\n",
      "Requirement already satisfied: tornado>=5 in /home/avinash/anaconda3/lib/python3.7/site-packages (from distributed>=2.4.0->dask-ml[xgboost]) (6.0.2)\n",
      "Requirement already satisfied: tblib in /home/avinash/anaconda3/lib/python3.7/site-packages (from distributed>=2.4.0->dask-ml[xgboost]) (1.3.2)\n",
      "Requirement already satisfied: sortedcontainers!=2.0.0,!=2.0.1 in /home/avinash/anaconda3/lib/python3.7/site-packages (from distributed>=2.4.0->dask-ml[xgboost]) (2.1.0)\n",
      "Requirement already satisfied: msgpack in /home/avinash/anaconda3/lib/python3.7/site-packages (from distributed>=2.4.0->dask-ml[xgboost]) (0.6.1)\n",
      "Requirement already satisfied: psutil>=5.0 in /home/avinash/anaconda3/lib/python3.7/site-packages (from distributed>=2.4.0->dask-ml[xgboost]) (5.6.1)\n",
      "Requirement already satisfied: toolz>=0.7.4 in /home/avinash/anaconda3/lib/python3.7/site-packages (from distributed>=2.4.0->dask-ml[xgboost]) (0.9.0)\n",
      "Requirement already satisfied: setuptools in /home/avinash/anaconda3/lib/python3.7/site-packages (from distributed>=2.4.0->dask-ml[xgboost]) (40.8.0)\n",
      "Requirement already satisfied: pyyaml in /home/avinash/anaconda3/lib/python3.7/site-packages (from distributed>=2.4.0->dask-ml[xgboost]) (5.1)\n",
      "Requirement already satisfied: zict>=0.1.3 in /home/avinash/anaconda3/lib/python3.7/site-packages (from distributed>=2.4.0->dask-ml[xgboost]) (0.1.4)\n",
      "Requirement already satisfied: click>=6.6 in /home/avinash/anaconda3/lib/python3.7/site-packages (from distributed>=2.4.0->dask-ml[xgboost]) (7.0)\n",
      "Collecting joblib>=0.11 (from scikit-learn>=0.21->dask-ml[xgboost])\n",
      "\u001b[?25l  Downloading https://files.pythonhosted.org/packages/28/5c/cf6a2b65a321c4a209efcdf64c2689efae2cb62661f8f6f4bb28547cf1bf/joblib-0.14.1-py2.py3-none-any.whl (294kB)\n",
      "\u001b[K    100% |████████████████████████████████| 296kB 1.1MB/s ta 0:00:01\n",
      "\u001b[?25hRequirement already satisfied: llvmlite>=0.28.0dev0 in /home/avinash/anaconda3/lib/python3.7/site-packages (from numba->dask-ml[xgboost]) (0.28.0)\n",
      "Requirement already satisfied: six in /home/avinash/anaconda3/lib/python3.7/site-packages (from multipledispatch>=0.4.9->dask-ml[xgboost]) (1.12.0)\n",
      "Requirement already satisfied: partd>=0.3.10; extra == \"dataframe\" in /home/avinash/anaconda3/lib/python3.7/site-packages (from dask[array,dataframe]>=2.4.0->dask-ml[xgboost]) (0.3.10)\n",
      "Collecting fsspec>=0.6.0; extra == \"dataframe\" (from dask[array,dataframe]>=2.4.0->dask-ml[xgboost])\n",
      "\u001b[?25l  Downloading https://files.pythonhosted.org/packages/dd/1f/7028dacd3c28f34ce48130aae73a88fa5cc27b6b0e494fcf2739f7954d9d/fsspec-0.6.2-py3-none-any.whl (62kB)\n",
      "\u001b[K    100% |████████████████████████████████| 71kB 1.4MB/s ta 0:00:01\n",
      "\u001b[?25hRequirement already satisfied: python-dateutil>=2.5.0 in /home/avinash/anaconda3/lib/python3.7/site-packages (from pandas>=0.23.4->dask-ml[xgboost]) (2.8.0)\n",
      "Requirement already satisfied: pytz>=2011k in /home/avinash/anaconda3/lib/python3.7/site-packages (from pandas>=0.23.4->dask-ml[xgboost]) (2018.9)\n",
      "Requirement already satisfied: pyparsing>=2.0.2 in /home/avinash/anaconda3/lib/python3.7/site-packages (from packaging->dask-ml[xgboost]) (2.3.1)\n",
      "Requirement already satisfied: heapdict in /home/avinash/anaconda3/lib/python3.7/site-packages (from zict>=0.1.3->distributed>=2.4.0->dask-ml[xgboost]) (1.0.0)\n",
      "Requirement already satisfied: locket in /home/avinash/anaconda3/lib/python3.7/site-packages (from partd>=0.3.10; extra == \"dataframe\"->dask[array,dataframe]>=2.4.0->dask-ml[xgboost]) (0.2.0)\n",
      "\u001b[31mtables 3.5.1 requires mock>=2.0, which is not installed.\u001b[0m\n",
      "Installing collected packages: numpy, fsspec, dask, distributed, joblib, scikit-learn, xgboost, dask-xgboost\n",
      "  Found existing installation: numpy 1.16.2\n",
      "    Uninstalling numpy-1.16.2:\n",
      "      Successfully uninstalled numpy-1.16.2\n",
      "  Found existing installation: dask 1.1.4\n",
      "    Uninstalling dask-1.1.4:\n",
      "      Successfully uninstalled dask-1.1.4\n",
      "  Found existing installation: distributed 1.26.0\n",
      "    Uninstalling distributed-1.26.0:\n",
      "      Successfully uninstalled distributed-1.26.0\n",
      "  Found existing installation: scikit-learn 0.20.3\n",
      "    Uninstalling scikit-learn-0.20.3:\n",
      "      Successfully uninstalled scikit-learn-0.20.3\n",
      "Successfully installed dask-2.9.2 dask-xgboost-0.1.9 distributed-2.9.3 fsspec-0.6.2 joblib-0.14.1 numpy-1.18.1 scikit-learn-0.22.1 xgboost-0.90\n",
      "Requirement already satisfied: dask-ml[tensorflow] in /home/avinash/anaconda3/lib/python3.7/site-packages (1.2.0)\n",
      "Requirement already satisfied: numpy>=1.17.3 in /home/avinash/anaconda3/lib/python3.7/site-packages (from dask-ml[tensorflow]) (1.18.1)\n",
      "Requirement already satisfied: packaging in /home/avinash/anaconda3/lib/python3.7/site-packages (from dask-ml[tensorflow]) (19.0)\n",
      "Requirement already satisfied: numba in /home/avinash/anaconda3/lib/python3.7/site-packages (from dask-ml[tensorflow]) (0.43.1)\n",
      "Requirement already satisfied: distributed>=2.4.0 in /home/avinash/anaconda3/lib/python3.7/site-packages (from dask-ml[tensorflow]) (2.9.3)\n",
      "Requirement already satisfied: pandas>=0.23.4 in /home/avinash/anaconda3/lib/python3.7/site-packages (from dask-ml[tensorflow]) (0.24.2)\n",
      "Requirement already satisfied: scipy in /home/avinash/anaconda3/lib/python3.7/site-packages (from dask-ml[tensorflow]) (1.2.1)\n",
      "Requirement already satisfied: dask-glm>=0.2.0 in /home/avinash/anaconda3/lib/python3.7/site-packages (from dask-ml[tensorflow]) (0.2.0)\n",
      "Requirement already satisfied: multipledispatch>=0.4.9 in /home/avinash/anaconda3/lib/python3.7/site-packages (from dask-ml[tensorflow]) (0.6.0)\n",
      "Requirement already satisfied: scikit-learn>=0.21 in /home/avinash/anaconda3/lib/python3.7/site-packages (from dask-ml[tensorflow]) (0.22.1)\n",
      "Requirement already satisfied: dask[array,dataframe]>=2.4.0 in /home/avinash/anaconda3/lib/python3.7/site-packages (from dask-ml[tensorflow]) (2.9.2)\n"
     ]
    },
    {
     "name": "stdout",
     "output_type": "stream",
     "text": [
      "Collecting tensorflow; extra == \"tensorflow\" (from dask-ml[tensorflow])\n",
      "\u001b[?25l  Downloading https://files.pythonhosted.org/packages/1d/56/0dbdae2a3c527a119bec0d5cf441655fe030ce1daa6fa6b9542f7dbd8664/tensorflow-2.1.0-cp37-cp37m-manylinux2010_x86_64.whl (421.8MB)\n",
      "\u001b[K    100% |████████████████████████████████| 421.8MB 114kB/s ta 0:00:011   19% |██████▏                         | 80.6MB 1.1MB/s eta 0:05:18    49% |████████████████                | 210.2MB 507kB/s eta 0:06:57    54% |█████████████████▎              | 227.9MB 1.2MB/s eta 0:02:44    66% |█████████████████████▍          | 281.7MB 1.4MB/s eta 0:01:44    73% |███████████████████████▊        | 312.1MB 515kB/s eta 0:03:34    98% |███████████████████████████████▍| 414.1MB 583kB/s eta 0:00:14\n",
      "\u001b[?25hCollecting dask-tensorflow; extra == \"tensorflow\" (from dask-ml[tensorflow])\n",
      "  Downloading https://files.pythonhosted.org/packages/00/a5/6cd58713aacf16fc8ef801e3020894a1faba7710c19c047c3e9582081b20/dask_tensorflow-0.0.2-py2.py3-none-any.whl\n",
      "Requirement already satisfied: six in /home/avinash/anaconda3/lib/python3.7/site-packages (from packaging->dask-ml[tensorflow]) (1.12.0)\n",
      "Requirement already satisfied: pyparsing>=2.0.2 in /home/avinash/anaconda3/lib/python3.7/site-packages (from packaging->dask-ml[tensorflow]) (2.3.1)\n",
      "Requirement already satisfied: llvmlite>=0.28.0dev0 in /home/avinash/anaconda3/lib/python3.7/site-packages (from numba->dask-ml[tensorflow]) (0.28.0)\n",
      "Requirement already satisfied: psutil>=5.0 in /home/avinash/anaconda3/lib/python3.7/site-packages (from distributed>=2.4.0->dask-ml[tensorflow]) (5.6.1)\n",
      "Requirement already satisfied: tornado>=5 in /home/avinash/anaconda3/lib/python3.7/site-packages (from distributed>=2.4.0->dask-ml[tensorflow]) (6.0.2)\n",
      "Requirement already satisfied: toolz>=0.7.4 in /home/avinash/anaconda3/lib/python3.7/site-packages (from distributed>=2.4.0->dask-ml[tensorflow]) (0.9.0)\n",
      "Requirement already satisfied: zict>=0.1.3 in /home/avinash/anaconda3/lib/python3.7/site-packages (from distributed>=2.4.0->dask-ml[tensorflow]) (0.1.4)\n",
      "Requirement already satisfied: tblib in /home/avinash/anaconda3/lib/python3.7/site-packages (from distributed>=2.4.0->dask-ml[tensorflow]) (1.3.2)\n",
      "Requirement already satisfied: setuptools in /home/avinash/anaconda3/lib/python3.7/site-packages (from distributed>=2.4.0->dask-ml[tensorflow]) (40.8.0)\n",
      "Requirement already satisfied: pyyaml in /home/avinash/anaconda3/lib/python3.7/site-packages (from distributed>=2.4.0->dask-ml[tensorflow]) (5.1)\n",
      "Requirement already satisfied: cloudpickle>=0.2.2 in /home/avinash/anaconda3/lib/python3.7/site-packages (from distributed>=2.4.0->dask-ml[tensorflow]) (0.8.0)\n",
      "Requirement already satisfied: click>=6.6 in /home/avinash/anaconda3/lib/python3.7/site-packages (from distributed>=2.4.0->dask-ml[tensorflow]) (7.0)\n",
      "Requirement already satisfied: sortedcontainers!=2.0.0,!=2.0.1 in /home/avinash/anaconda3/lib/python3.7/site-packages (from distributed>=2.4.0->dask-ml[tensorflow]) (2.1.0)\n",
      "Requirement already satisfied: msgpack in /home/avinash/anaconda3/lib/python3.7/site-packages (from distributed>=2.4.0->dask-ml[tensorflow]) (0.6.1)\n",
      "Requirement already satisfied: python-dateutil>=2.5.0 in /home/avinash/anaconda3/lib/python3.7/site-packages (from pandas>=0.23.4->dask-ml[tensorflow]) (2.8.0)\n",
      "Requirement already satisfied: pytz>=2011k in /home/avinash/anaconda3/lib/python3.7/site-packages (from pandas>=0.23.4->dask-ml[tensorflow]) (2018.9)\n",
      "Requirement already satisfied: joblib>=0.11 in /home/avinash/anaconda3/lib/python3.7/site-packages (from scikit-learn>=0.21->dask-ml[tensorflow]) (0.14.1)\n",
      "Requirement already satisfied: partd>=0.3.10; extra == \"dataframe\" in /home/avinash/anaconda3/lib/python3.7/site-packages (from dask[array,dataframe]>=2.4.0->dask-ml[tensorflow]) (0.3.10)\n",
      "Requirement already satisfied: fsspec>=0.6.0; extra == \"dataframe\" in /home/avinash/anaconda3/lib/python3.7/site-packages (from dask[array,dataframe]>=2.4.0->dask-ml[tensorflow]) (0.6.2)\n",
      "Collecting tensorboard<2.2.0,>=2.1.0 (from tensorflow; extra == \"tensorflow\"->dask-ml[tensorflow])\n",
      "\u001b[?25l  Downloading https://files.pythonhosted.org/packages/40/23/53ffe290341cd0855d595b0a2e7485932f473798af173bbe3a584b99bb06/tensorboard-2.1.0-py3-none-any.whl (3.8MB)\n",
      "\u001b[K    100% |████████████████████████████████| 3.8MB 984kB/s ta 0:00:01\n",
      "\u001b[?25hCollecting opt-einsum>=2.3.2 (from tensorflow; extra == \"tensorflow\"->dask-ml[tensorflow])\n",
      "\u001b[?25l  Downloading https://files.pythonhosted.org/packages/b8/83/755bd5324777875e9dff19c2e59daec837d0378c09196634524a3d7269ac/opt_einsum-3.1.0.tar.gz (69kB)\n",
      "\u001b[K    100% |████████████████████████████████| 71kB 1.2MB/s ta 0:00:01\n",
      "\u001b[?25hCollecting astor>=0.6.0 (from tensorflow; extra == \"tensorflow\"->dask-ml[tensorflow])\n",
      "  Downloading https://files.pythonhosted.org/packages/c3/88/97eef84f48fa04fbd6750e62dcceafba6c63c81b7ac1420856c8dcc0a3f9/astor-0.8.1-py2.py3-none-any.whl\n",
      "Collecting absl-py>=0.7.0 (from tensorflow; extra == \"tensorflow\"->dask-ml[tensorflow])\n",
      "\u001b[?25l  Downloading https://files.pythonhosted.org/packages/1a/53/9243c600e047bd4c3df9e69cfabc1e8004a82cac2e0c484580a78a94ba2a/absl-py-0.9.0.tar.gz (104kB)\n",
      "\u001b[K    100% |████████████████████████████████| 112kB 1.1MB/s ta 0:00:01\n",
      "\u001b[?25hCollecting protobuf>=3.8.0 (from tensorflow; extra == \"tensorflow\"->dask-ml[tensorflow])\n",
      "\u001b[?25l  Downloading https://files.pythonhosted.org/packages/4a/14/f5c294f1e36a031f165128c25feba93b3116f15a74398d0b2747ed75744f/protobuf-3.11.2-cp37-cp37m-manylinux1_x86_64.whl (1.3MB)\n",
      "\u001b[K    100% |████████████████████████████████| 1.3MB 1.4MB/s ta 0:00:01\n",
      "\u001b[?25hCollecting tensorflow-estimator<2.2.0,>=2.1.0rc0 (from tensorflow; extra == \"tensorflow\"->dask-ml[tensorflow])\n",
      "\u001b[?25l  Downloading https://files.pythonhosted.org/packages/18/90/b77c328a1304437ab1310b463e533fa7689f4bfc41549593056d812fab8e/tensorflow_estimator-2.1.0-py2.py3-none-any.whl (448kB)\n",
      "\u001b[K    100% |████████████████████████████████| 450kB 1.1MB/s ta 0:00:01\n",
      "\u001b[?25hCollecting google-pasta>=0.1.6 (from tensorflow; extra == \"tensorflow\"->dask-ml[tensorflow])\n",
      "\u001b[?25l  Downloading https://files.pythonhosted.org/packages/c3/fd/1e86bc4837cc9a3a5faf3db9b1854aa04ad35b5f381f9648fbe81a6f94e4/google_pasta-0.1.8-py3-none-any.whl (57kB)\n",
      "\u001b[K    100% |████████████████████████████████| 61kB 997kB/s ta 0:00:01\n",
      "\u001b[?25hCollecting keras-preprocessing>=1.1.0 (from tensorflow; extra == \"tensorflow\"->dask-ml[tensorflow])\n",
      "\u001b[?25l  Downloading https://files.pythonhosted.org/packages/28/6a/8c1f62c37212d9fc441a7e26736df51ce6f0e38455816445471f10da4f0a/Keras_Preprocessing-1.1.0-py2.py3-none-any.whl (41kB)\n",
      "\u001b[K    100% |████████████████████████████████| 51kB 1.2MB/s ta 0:00:01\n",
      "\u001b[?25hCollecting termcolor>=1.1.0 (from tensorflow; extra == \"tensorflow\"->dask-ml[tensorflow])\n",
      "  Downloading https://files.pythonhosted.org/packages/8a/48/a76be51647d0eb9f10e2a4511bf3ffb8cc1e6b14e9e4fab46173aa79f981/termcolor-1.1.0.tar.gz\n",
      "Requirement already satisfied: wrapt>=1.11.1 in /home/avinash/anaconda3/lib/python3.7/site-packages (from tensorflow; extra == \"tensorflow\"->dask-ml[tensorflow]) (1.11.1)\n",
      "Collecting gast==0.2.2 (from tensorflow; extra == \"tensorflow\"->dask-ml[tensorflow])\n",
      "  Downloading https://files.pythonhosted.org/packages/4e/35/11749bf99b2d4e3cceb4d55ca22590b0d7c2c62b9de38ac4a4a7f4687421/gast-0.2.2.tar.gz\n",
      "Collecting grpcio>=1.8.6 (from tensorflow; extra == \"tensorflow\"->dask-ml[tensorflow])\n",
      "\u001b[?25l  Downloading https://files.pythonhosted.org/packages/bc/b3/0052e38c640d52b710e235b15821cc3c61d0065bf54e70a44550ef127349/grpcio-1.26.0-cp37-cp37m-manylinux2010_x86_64.whl (2.4MB)\n",
      "\u001b[K    100% |████████████████████████████████| 2.4MB 1.3MB/s ta 0:00:01\n",
      "\u001b[?25hRequirement already satisfied: wheel>=0.26; python_version >= \"3\" in /home/avinash/anaconda3/lib/python3.7/site-packages (from tensorflow; extra == \"tensorflow\"->dask-ml[tensorflow]) (0.33.1)\n",
      "Collecting keras-applications>=1.0.8 (from tensorflow; extra == \"tensorflow\"->dask-ml[tensorflow])\n",
      "\u001b[?25l  Downloading https://files.pythonhosted.org/packages/71/e3/19762fdfc62877ae9102edf6342d71b28fbfd9dea3d2f96a882ce099b03f/Keras_Applications-1.0.8-py3-none-any.whl (50kB)\n",
      "\u001b[K    100% |████████████████████████████████| 51kB 510kB/s ta 0:00:01\n",
      "\u001b[?25hRequirement already satisfied: heapdict in /home/avinash/anaconda3/lib/python3.7/site-packages (from zict>=0.1.3->distributed>=2.4.0->dask-ml[tensorflow]) (1.0.0)\n",
      "Requirement already satisfied: locket in /home/avinash/anaconda3/lib/python3.7/site-packages (from partd>=0.3.10; extra == \"dataframe\"->dask[array,dataframe]>=2.4.0->dask-ml[tensorflow]) (0.2.0)\n"
     ]
    },
    {
     "name": "stdout",
     "output_type": "stream",
     "text": [
      "Collecting markdown>=2.6.8 (from tensorboard<2.2.0,>=2.1.0->tensorflow; extra == \"tensorflow\"->dask-ml[tensorflow])\n",
      "\u001b[?25l  Downloading https://files.pythonhosted.org/packages/c0/4e/fd492e91abdc2d2fcb70ef453064d980688762079397f779758e055f6575/Markdown-3.1.1-py2.py3-none-any.whl (87kB)\n",
      "\u001b[K    100% |████████████████████████████████| 92kB 1.8MB/s ta 0:00:01\n",
      "\u001b[?25hCollecting google-auth-oauthlib<0.5,>=0.4.1 (from tensorboard<2.2.0,>=2.1.0->tensorflow; extra == \"tensorflow\"->dask-ml[tensorflow])\n",
      "  Downloading https://files.pythonhosted.org/packages/7b/b8/88def36e74bee9fce511c9519571f4e485e890093ab7442284f4ffaef60b/google_auth_oauthlib-0.4.1-py2.py3-none-any.whl\n",
      "Requirement already satisfied: requests<3,>=2.21.0 in /home/avinash/anaconda3/lib/python3.7/site-packages (from tensorboard<2.2.0,>=2.1.0->tensorflow; extra == \"tensorflow\"->dask-ml[tensorflow]) (2.21.0)\n",
      "Requirement already satisfied: werkzeug>=0.11.15 in /home/avinash/anaconda3/lib/python3.7/site-packages (from tensorboard<2.2.0,>=2.1.0->tensorflow; extra == \"tensorflow\"->dask-ml[tensorflow]) (0.14.1)\n",
      "Collecting google-auth<2,>=1.6.3 (from tensorboard<2.2.0,>=2.1.0->tensorflow; extra == \"tensorflow\"->dask-ml[tensorflow])\n",
      "\u001b[?25l  Downloading https://files.pythonhosted.org/packages/1c/6d/7aae38a9022f982cf8167775c7fc299f203417b698c27080ce09060bba07/google_auth-1.11.0-py2.py3-none-any.whl (76kB)\n",
      "\u001b[K    100% |████████████████████████████████| 81kB 1.5MB/s ta 0:00:01\n",
      "\u001b[?25hRequirement already satisfied: h5py in /home/avinash/anaconda3/lib/python3.7/site-packages (from keras-applications>=1.0.8->tensorflow; extra == \"tensorflow\"->dask-ml[tensorflow]) (2.9.0)\n",
      "Collecting requests-oauthlib>=0.7.0 (from google-auth-oauthlib<0.5,>=0.4.1->tensorboard<2.2.0,>=2.1.0->tensorflow; extra == \"tensorflow\"->dask-ml[tensorflow])\n",
      "  Downloading https://files.pythonhosted.org/packages/a3/12/b92740d845ab62ea4edf04d2f4164d82532b5a0b03836d4d4e71c6f3d379/requests_oauthlib-1.3.0-py2.py3-none-any.whl\n",
      "Requirement already satisfied: urllib3<1.25,>=1.21.1 in /home/avinash/anaconda3/lib/python3.7/site-packages (from requests<3,>=2.21.0->tensorboard<2.2.0,>=2.1.0->tensorflow; extra == \"tensorflow\"->dask-ml[tensorflow]) (1.24.1)\n",
      "Requirement already satisfied: idna<2.9,>=2.5 in /home/avinash/anaconda3/lib/python3.7/site-packages (from requests<3,>=2.21.0->tensorboard<2.2.0,>=2.1.0->tensorflow; extra == \"tensorflow\"->dask-ml[tensorflow]) (2.8)\n",
      "Requirement already satisfied: chardet<3.1.0,>=3.0.2 in /home/avinash/anaconda3/lib/python3.7/site-packages (from requests<3,>=2.21.0->tensorboard<2.2.0,>=2.1.0->tensorflow; extra == \"tensorflow\"->dask-ml[tensorflow]) (3.0.4)\n",
      "Requirement already satisfied: certifi>=2017.4.17 in /home/avinash/anaconda3/lib/python3.7/site-packages (from requests<3,>=2.21.0->tensorboard<2.2.0,>=2.1.0->tensorflow; extra == \"tensorflow\"->dask-ml[tensorflow]) (2019.11.28)\n",
      "Collecting cachetools<5.0,>=2.0.0 (from google-auth<2,>=1.6.3->tensorboard<2.2.0,>=2.1.0->tensorflow; extra == \"tensorflow\"->dask-ml[tensorflow])\n",
      "  Downloading https://files.pythonhosted.org/packages/08/6a/abf83cb951617793fd49c98cb9456860f5df66ff89883c8660aa0672d425/cachetools-4.0.0-py3-none-any.whl\n",
      "Collecting rsa<4.1,>=3.1.4 (from google-auth<2,>=1.6.3->tensorboard<2.2.0,>=2.1.0->tensorflow; extra == \"tensorflow\"->dask-ml[tensorflow])\n",
      "  Downloading https://files.pythonhosted.org/packages/02/e5/38518af393f7c214357079ce67a317307936896e961e35450b70fad2a9cf/rsa-4.0-py2.py3-none-any.whl\n",
      "Collecting pyasn1-modules>=0.2.1 (from google-auth<2,>=1.6.3->tensorboard<2.2.0,>=2.1.0->tensorflow; extra == \"tensorflow\"->dask-ml[tensorflow])\n",
      "\u001b[?25l  Downloading https://files.pythonhosted.org/packages/95/de/214830a981892a3e286c3794f41ae67a4495df1108c3da8a9f62159b9a9d/pyasn1_modules-0.2.8-py2.py3-none-any.whl (155kB)\n",
      "\u001b[K    100% |████████████████████████████████| 163kB 1.1MB/s ta 0:00:01\n",
      "\u001b[?25hCollecting oauthlib>=3.0.0 (from requests-oauthlib>=0.7.0->google-auth-oauthlib<0.5,>=0.4.1->tensorboard<2.2.0,>=2.1.0->tensorflow; extra == \"tensorflow\"->dask-ml[tensorflow])\n",
      "\u001b[?25l  Downloading https://files.pythonhosted.org/packages/05/57/ce2e7a8fa7c0afb54a0581b14a65b56e62b5759dbc98e80627142b8a3704/oauthlib-3.1.0-py2.py3-none-any.whl (147kB)\n",
      "\u001b[K    100% |████████████████████████████████| 153kB 1.6MB/s ta 0:00:01\n",
      "\u001b[?25hCollecting pyasn1>=0.1.3 (from rsa<4.1,>=3.1.4->google-auth<2,>=1.6.3->tensorboard<2.2.0,>=2.1.0->tensorflow; extra == \"tensorflow\"->dask-ml[tensorflow])\n",
      "\u001b[?25l  Downloading https://files.pythonhosted.org/packages/62/1e/a94a8d635fa3ce4cfc7f506003548d0a2447ae76fd5ca53932970fe3053f/pyasn1-0.4.8-py2.py3-none-any.whl (77kB)\n",
      "\u001b[K    100% |████████████████████████████████| 81kB 1.5MB/s ta 0:00:01\n",
      "\u001b[?25hBuilding wheels for collected packages: opt-einsum, absl-py, termcolor, gast\n",
      "  Building wheel for opt-einsum (setup.py) ... \u001b[?25ldone\n",
      "\u001b[?25h  Stored in directory: /home/avinash/.cache/pip/wheels/2c/b1/94/43d03e130b929aae7ba3f8d15cbd7bc0d1cb5bb38a5c721833\n",
      "  Building wheel for absl-py (setup.py) ... \u001b[?25ldone\n",
      "\u001b[?25h  Stored in directory: /home/avinash/.cache/pip/wheels/8e/28/49/fad4e7f0b9a1227708cbbee4487ac8558a7334849cb81c813d\n",
      "  Building wheel for termcolor (setup.py) ... \u001b[?25ldone\n",
      "\u001b[?25h  Stored in directory: /home/avinash/.cache/pip/wheels/7c/06/54/bc84598ba1daf8f970247f550b175aaaee85f68b4b0c5ab2c6\n",
      "  Building wheel for gast (setup.py) ... \u001b[?25ldone\n",
      "\u001b[?25h  Stored in directory: /home/avinash/.cache/pip/wheels/5c/2e/7e/a1d4d4fcebe6c381f378ce7743a3ced3699feb89bcfbdadadd\n",
      "Successfully built opt-einsum absl-py termcolor gast\n",
      "\u001b[31mtensorboard 2.1.0 has requirement setuptools>=41.0.0, but you'll have setuptools 40.8.0 which is incompatible.\u001b[0m\n",
      "\u001b[31mtensorflow 2.1.0 has requirement scipy==1.4.1; python_version >= \"3\", but you'll have scipy 1.2.1 which is incompatible.\u001b[0m\n",
      "Installing collected packages: grpcio, markdown, oauthlib, requests-oauthlib, cachetools, pyasn1, rsa, pyasn1-modules, google-auth, google-auth-oauthlib, absl-py, protobuf, tensorboard, opt-einsum, astor, tensorflow-estimator, google-pasta, keras-preprocessing, termcolor, gast, keras-applications, tensorflow, dask-tensorflow\n",
      "Successfully installed absl-py-0.9.0 astor-0.8.1 cachetools-4.0.0 dask-tensorflow-0.0.2 gast-0.2.2 google-auth-1.11.0 google-auth-oauthlib-0.4.1 google-pasta-0.1.8 grpcio-1.26.0 keras-applications-1.0.8 keras-preprocessing-1.1.0 markdown-3.1.1 oauthlib-3.1.0 opt-einsum-3.1.0 protobuf-3.11.2 pyasn1-0.4.8 pyasn1-modules-0.2.8 requests-oauthlib-1.3.0 rsa-4.0 tensorboard-2.1.0 tensorflow-2.1.0 tensorflow-estimator-2.1.0 termcolor-1.1.0\n",
      "Requirement already satisfied: dask-ml[complete] in /home/avinash/anaconda3/lib/python3.7/site-packages (1.2.0)\n",
      "Requirement already satisfied: scipy in /home/avinash/anaconda3/lib/python3.7/site-packages (from dask-ml[complete]) (1.2.1)\n",
      "Requirement already satisfied: multipledispatch>=0.4.9 in /home/avinash/anaconda3/lib/python3.7/site-packages (from dask-ml[complete]) (0.6.0)\n",
      "Requirement already satisfied: scikit-learn>=0.21 in /home/avinash/anaconda3/lib/python3.7/site-packages (from dask-ml[complete]) (0.22.1)\n",
      "Requirement already satisfied: packaging in /home/avinash/anaconda3/lib/python3.7/site-packages (from dask-ml[complete]) (19.0)\n",
      "Requirement already satisfied: numba in /home/avinash/anaconda3/lib/python3.7/site-packages (from dask-ml[complete]) (0.43.1)\n",
      "Requirement already satisfied: dask[array,dataframe]>=2.4.0 in /home/avinash/anaconda3/lib/python3.7/site-packages (from dask-ml[complete]) (2.9.2)\n",
      "Requirement already satisfied: distributed>=2.4.0 in /home/avinash/anaconda3/lib/python3.7/site-packages (from dask-ml[complete]) (2.9.3)\n",
      "Requirement already satisfied: numpy>=1.17.3 in /home/avinash/anaconda3/lib/python3.7/site-packages (from dask-ml[complete]) (1.18.1)\n",
      "Requirement already satisfied: dask-glm>=0.2.0 in /home/avinash/anaconda3/lib/python3.7/site-packages (from dask-ml[complete]) (0.2.0)\n",
      "Requirement already satisfied: pandas>=0.23.4 in /home/avinash/anaconda3/lib/python3.7/site-packages (from dask-ml[complete]) (0.24.2)\n",
      "Requirement already satisfied: dask-xgboost; extra == \"complete\" in /home/avinash/anaconda3/lib/python3.7/site-packages (from dask-ml[complete]) (0.1.9)\n",
      "Requirement already satisfied: dask-tensorflow; extra == \"complete\" in /home/avinash/anaconda3/lib/python3.7/site-packages (from dask-ml[complete]) (0.0.2)\n",
      "Requirement already satisfied: xgboost; extra == \"complete\" in /home/avinash/anaconda3/lib/python3.7/site-packages (from dask-ml[complete]) (0.90)\n",
      "Requirement already satisfied: tensorflow; extra == \"complete\" in /home/avinash/anaconda3/lib/python3.7/site-packages (from dask-ml[complete]) (2.1.0)\n"
     ]
    },
    {
     "name": "stdout",
     "output_type": "stream",
     "text": [
      "Requirement already satisfied: six in /home/avinash/anaconda3/lib/python3.7/site-packages (from multipledispatch>=0.4.9->dask-ml[complete]) (1.12.0)\n",
      "Requirement already satisfied: joblib>=0.11 in /home/avinash/anaconda3/lib/python3.7/site-packages (from scikit-learn>=0.21->dask-ml[complete]) (0.14.1)\n",
      "Requirement already satisfied: pyparsing>=2.0.2 in /home/avinash/anaconda3/lib/python3.7/site-packages (from packaging->dask-ml[complete]) (2.3.1)\n",
      "Requirement already satisfied: llvmlite>=0.28.0dev0 in /home/avinash/anaconda3/lib/python3.7/site-packages (from numba->dask-ml[complete]) (0.28.0)\n",
      "Requirement already satisfied: toolz>=0.7.3; extra == \"array\" in /home/avinash/anaconda3/lib/python3.7/site-packages (from dask[array,dataframe]>=2.4.0->dask-ml[complete]) (0.9.0)\n",
      "Requirement already satisfied: partd>=0.3.10; extra == \"dataframe\" in /home/avinash/anaconda3/lib/python3.7/site-packages (from dask[array,dataframe]>=2.4.0->dask-ml[complete]) (0.3.10)\n",
      "Requirement already satisfied: fsspec>=0.6.0; extra == \"dataframe\" in /home/avinash/anaconda3/lib/python3.7/site-packages (from dask[array,dataframe]>=2.4.0->dask-ml[complete]) (0.6.2)\n",
      "Requirement already satisfied: zict>=0.1.3 in /home/avinash/anaconda3/lib/python3.7/site-packages (from distributed>=2.4.0->dask-ml[complete]) (0.1.4)\n",
      "Requirement already satisfied: click>=6.6 in /home/avinash/anaconda3/lib/python3.7/site-packages (from distributed>=2.4.0->dask-ml[complete]) (7.0)\n",
      "Requirement already satisfied: msgpack in /home/avinash/anaconda3/lib/python3.7/site-packages (from distributed>=2.4.0->dask-ml[complete]) (0.6.1)\n",
      "Requirement already satisfied: tornado>=5 in /home/avinash/anaconda3/lib/python3.7/site-packages (from distributed>=2.4.0->dask-ml[complete]) (6.0.2)\n",
      "Requirement already satisfied: psutil>=5.0 in /home/avinash/anaconda3/lib/python3.7/site-packages (from distributed>=2.4.0->dask-ml[complete]) (5.6.1)\n",
      "Requirement already satisfied: pyyaml in /home/avinash/anaconda3/lib/python3.7/site-packages (from distributed>=2.4.0->dask-ml[complete]) (5.1)\n",
      "Requirement already satisfied: tblib in /home/avinash/anaconda3/lib/python3.7/site-packages (from distributed>=2.4.0->dask-ml[complete]) (1.3.2)\n",
      "Requirement already satisfied: cloudpickle>=0.2.2 in /home/avinash/anaconda3/lib/python3.7/site-packages (from distributed>=2.4.0->dask-ml[complete]) (0.8.0)\n",
      "Requirement already satisfied: sortedcontainers!=2.0.0,!=2.0.1 in /home/avinash/anaconda3/lib/python3.7/site-packages (from distributed>=2.4.0->dask-ml[complete]) (2.1.0)\n",
      "Requirement already satisfied: setuptools in /home/avinash/anaconda3/lib/python3.7/site-packages (from distributed>=2.4.0->dask-ml[complete]) (40.8.0)\n",
      "Requirement already satisfied: python-dateutil>=2.5.0 in /home/avinash/anaconda3/lib/python3.7/site-packages (from pandas>=0.23.4->dask-ml[complete]) (2.8.0)\n",
      "Requirement already satisfied: pytz>=2011k in /home/avinash/anaconda3/lib/python3.7/site-packages (from pandas>=0.23.4->dask-ml[complete]) (2018.9)\n",
      "Requirement already satisfied: termcolor>=1.1.0 in /home/avinash/anaconda3/lib/python3.7/site-packages (from tensorflow; extra == \"complete\"->dask-ml[complete]) (1.1.0)\n",
      "Requirement already satisfied: google-pasta>=0.1.6 in /home/avinash/anaconda3/lib/python3.7/site-packages (from tensorflow; extra == \"complete\"->dask-ml[complete]) (0.1.8)\n",
      "Requirement already satisfied: keras-applications>=1.0.8 in /home/avinash/anaconda3/lib/python3.7/site-packages (from tensorflow; extra == \"complete\"->dask-ml[complete]) (1.0.8)\n",
      "Requirement already satisfied: absl-py>=0.7.0 in /home/avinash/anaconda3/lib/python3.7/site-packages (from tensorflow; extra == \"complete\"->dask-ml[complete]) (0.9.0)\n",
      "Requirement already satisfied: wheel>=0.26; python_version >= \"3\" in /home/avinash/anaconda3/lib/python3.7/site-packages (from tensorflow; extra == \"complete\"->dask-ml[complete]) (0.33.1)\n",
      "Requirement already satisfied: wrapt>=1.11.1 in /home/avinash/anaconda3/lib/python3.7/site-packages (from tensorflow; extra == \"complete\"->dask-ml[complete]) (1.11.1)\n",
      "Requirement already satisfied: opt-einsum>=2.3.2 in /home/avinash/anaconda3/lib/python3.7/site-packages (from tensorflow; extra == \"complete\"->dask-ml[complete]) (3.1.0)\n",
      "Requirement already satisfied: tensorflow-estimator<2.2.0,>=2.1.0rc0 in /home/avinash/anaconda3/lib/python3.7/site-packages (from tensorflow; extra == \"complete\"->dask-ml[complete]) (2.1.0)\n",
      "Requirement already satisfied: gast==0.2.2 in /home/avinash/anaconda3/lib/python3.7/site-packages (from tensorflow; extra == \"complete\"->dask-ml[complete]) (0.2.2)\n",
      "Requirement already satisfied: astor>=0.6.0 in /home/avinash/anaconda3/lib/python3.7/site-packages (from tensorflow; extra == \"complete\"->dask-ml[complete]) (0.8.1)\n",
      "Requirement already satisfied: protobuf>=3.8.0 in /home/avinash/anaconda3/lib/python3.7/site-packages (from tensorflow; extra == \"complete\"->dask-ml[complete]) (3.11.2)\n",
      "Requirement already satisfied: grpcio>=1.8.6 in /home/avinash/anaconda3/lib/python3.7/site-packages (from tensorflow; extra == \"complete\"->dask-ml[complete]) (1.26.0)\n",
      "Requirement already satisfied: keras-preprocessing>=1.1.0 in /home/avinash/anaconda3/lib/python3.7/site-packages (from tensorflow; extra == \"complete\"->dask-ml[complete]) (1.1.0)\n",
      "Requirement already satisfied: tensorboard<2.2.0,>=2.1.0 in /home/avinash/anaconda3/lib/python3.7/site-packages (from tensorflow; extra == \"complete\"->dask-ml[complete]) (2.1.0)\n",
      "Requirement already satisfied: locket in /home/avinash/anaconda3/lib/python3.7/site-packages (from partd>=0.3.10; extra == \"dataframe\"->dask[array,dataframe]>=2.4.0->dask-ml[complete]) (0.2.0)\n",
      "Requirement already satisfied: heapdict in /home/avinash/anaconda3/lib/python3.7/site-packages (from zict>=0.1.3->distributed>=2.4.0->dask-ml[complete]) (1.0.0)\n",
      "Requirement already satisfied: h5py in /home/avinash/anaconda3/lib/python3.7/site-packages (from keras-applications>=1.0.8->tensorflow; extra == \"complete\"->dask-ml[complete]) (2.9.0)\n",
      "Requirement already satisfied: markdown>=2.6.8 in /home/avinash/anaconda3/lib/python3.7/site-packages (from tensorboard<2.2.0,>=2.1.0->tensorflow; extra == \"complete\"->dask-ml[complete]) (3.1.1)\n",
      "Requirement already satisfied: google-auth<2,>=1.6.3 in /home/avinash/anaconda3/lib/python3.7/site-packages (from tensorboard<2.2.0,>=2.1.0->tensorflow; extra == \"complete\"->dask-ml[complete]) (1.11.0)\n",
      "Requirement already satisfied: requests<3,>=2.21.0 in /home/avinash/anaconda3/lib/python3.7/site-packages (from tensorboard<2.2.0,>=2.1.0->tensorflow; extra == \"complete\"->dask-ml[complete]) (2.21.0)\n",
      "Requirement already satisfied: werkzeug>=0.11.15 in /home/avinash/anaconda3/lib/python3.7/site-packages (from tensorboard<2.2.0,>=2.1.0->tensorflow; extra == \"complete\"->dask-ml[complete]) (0.14.1)\n",
      "Requirement already satisfied: google-auth-oauthlib<0.5,>=0.4.1 in /home/avinash/anaconda3/lib/python3.7/site-packages (from tensorboard<2.2.0,>=2.1.0->tensorflow; extra == \"complete\"->dask-ml[complete]) (0.4.1)\n",
      "Requirement already satisfied: pyasn1-modules>=0.2.1 in /home/avinash/anaconda3/lib/python3.7/site-packages (from google-auth<2,>=1.6.3->tensorboard<2.2.0,>=2.1.0->tensorflow; extra == \"complete\"->dask-ml[complete]) (0.2.8)\n",
      "Requirement already satisfied: cachetools<5.0,>=2.0.0 in /home/avinash/anaconda3/lib/python3.7/site-packages (from google-auth<2,>=1.6.3->tensorboard<2.2.0,>=2.1.0->tensorflow; extra == \"complete\"->dask-ml[complete]) (4.0.0)\n",
      "Requirement already satisfied: rsa<4.1,>=3.1.4 in /home/avinash/anaconda3/lib/python3.7/site-packages (from google-auth<2,>=1.6.3->tensorboard<2.2.0,>=2.1.0->tensorflow; extra == \"complete\"->dask-ml[complete]) (4.0)\n",
      "Requirement already satisfied: certifi>=2017.4.17 in /home/avinash/anaconda3/lib/python3.7/site-packages (from requests<3,>=2.21.0->tensorboard<2.2.0,>=2.1.0->tensorflow; extra == \"complete\"->dask-ml[complete]) (2019.11.28)\n",
      "Requirement already satisfied: urllib3<1.25,>=1.21.1 in /home/avinash/anaconda3/lib/python3.7/site-packages (from requests<3,>=2.21.0->tensorboard<2.2.0,>=2.1.0->tensorflow; extra == \"complete\"->dask-ml[complete]) (1.24.1)\n",
      "Requirement already satisfied: chardet<3.1.0,>=3.0.2 in /home/avinash/anaconda3/lib/python3.7/site-packages (from requests<3,>=2.21.0->tensorboard<2.2.0,>=2.1.0->tensorflow; extra == \"complete\"->dask-ml[complete]) (3.0.4)\n",
      "Requirement already satisfied: idna<2.9,>=2.5 in /home/avinash/anaconda3/lib/python3.7/site-packages (from requests<3,>=2.21.0->tensorboard<2.2.0,>=2.1.0->tensorflow; extra == \"complete\"->dask-ml[complete]) (2.8)\n",
      "Requirement already satisfied: requests-oauthlib>=0.7.0 in /home/avinash/anaconda3/lib/python3.7/site-packages (from google-auth-oauthlib<0.5,>=0.4.1->tensorboard<2.2.0,>=2.1.0->tensorflow; extra == \"complete\"->dask-ml[complete]) (1.3.0)\n",
      "Requirement already satisfied: pyasn1<0.5.0,>=0.4.6 in /home/avinash/anaconda3/lib/python3.7/site-packages (from pyasn1-modules>=0.2.1->google-auth<2,>=1.6.3->tensorboard<2.2.0,>=2.1.0->tensorflow; extra == \"complete\"->dask-ml[complete]) (0.4.8)\n",
      "Requirement already satisfied: oauthlib>=3.0.0 in /home/avinash/anaconda3/lib/python3.7/site-packages (from requests-oauthlib>=0.7.0->google-auth-oauthlib<0.5,>=0.4.1->tensorboard<2.2.0,>=2.1.0->tensorflow; extra == \"complete\"->dask-ml[complete]) (3.1.0)\n"
     ]
    }
   ],
   "source": [
    "!pip install dask-ml[xgboost] \n",
    "!pip install dask-ml[tensorflow]\n",
    "!pip install dask-ml[complete]"
   ]
  },
  {
   "cell_type": "code",
   "execution_count": null,
   "metadata": {},
   "outputs": [],
   "source": []
  },
  {
   "cell_type": "markdown",
   "metadata": {},
   "source": [
    "## Dask Array"
   ]
  },
  {
   "cell_type": "code",
   "execution_count": 7,
   "metadata": {},
   "outputs": [
    {
     "data": {
      "text/plain": [
       "array([ 0,  1,  2,  3,  4,  5,  6,  7,  8,  9, 10, 11, 12, 13, 14, 15, 16,\n",
       "       17])"
      ]
     },
     "execution_count": 7,
     "metadata": {},
     "output_type": "execute_result"
    }
   ],
   "source": [
    "# import Dask Array\n",
    "import dask.array as da    \n",
    "\n",
    "# Create Dask Array using arange() function and generate values from 0 to 17\n",
    "a = da.arange(18, chunks=4)\n",
    "\n",
    "# Compute the array\n",
    "a.compute() "
   ]
  },
  {
   "cell_type": "code",
   "execution_count": 8,
   "metadata": {},
   "outputs": [
    {
     "data": {
      "text/plain": [
       "((4, 4, 4, 4, 2),)"
      ]
     },
     "execution_count": 8,
     "metadata": {},
     "output_type": "execute_result"
    }
   ],
   "source": [
    "# Check the chunk size\n",
    "a.chunks"
   ]
  },
  {
   "cell_type": "code",
   "execution_count": null,
   "metadata": {},
   "outputs": [],
   "source": []
  },
  {
   "cell_type": "markdown",
   "metadata": {
    "colab": {},
    "colab_type": "code",
    "id": "1e2-Sbo6awGA"
   },
   "source": [
    "## Dask DataFrames"
   ]
  },
  {
   "cell_type": "code",
   "execution_count": 9,
   "metadata": {},
   "outputs": [
    {
     "name": "stdout",
     "output_type": "stream",
     "text": [
      "CPU times: user 29 ms, sys: 8.28 ms, total: 37.3 ms\n",
      "Wall time: 139 ms\n"
     ]
    }
   ],
   "source": [
    "# Read csv file using  pandas\n",
    "import pandas as pd\n",
    "%time temp = pd.read_csv(\"HR_comma_sep.csv\") "
   ]
  },
  {
   "cell_type": "code",
   "execution_count": 10,
   "metadata": {},
   "outputs": [
    {
     "name": "stdout",
     "output_type": "stream",
     "text": [
      "CPU times: user 51.2 ms, sys: 3.46 ms, total: 54.6 ms\n",
      "Wall time: 52.5 ms\n"
     ]
    }
   ],
   "source": [
    "# Read csv file using Dask\n",
    "import dask.dataframe as dd\n",
    "%time df = dd.read_csv(\"HR_comma_sep.csv\")"
   ]
  },
  {
   "cell_type": "markdown",
   "metadata": {},
   "source": [
    "### DataFrame Indexing"
   ]
  },
  {
   "cell_type": "code",
   "execution_count": 43,
   "metadata": {},
   "outputs": [
    {
     "name": "stderr",
     "output_type": "stream",
     "text": [
      "/home/avinash/anaconda3/lib/python3.7/site-packages/dask/dataframe/core.py:5890: UserWarning: Insufficient elements for `head`. 5 elements requested, only 3 elements available. Try passing larger `npartitions` to `head`.\n",
      "  warnings.warn(msg.format(n, len(r)))\n"
     ]
    },
    {
     "data": {
      "text/html": [
       "<div>\n",
       "<style scoped>\n",
       "    .dataframe tbody tr th:only-of-type {\n",
       "        vertical-align: middle;\n",
       "    }\n",
       "\n",
       "    .dataframe tbody tr th {\n",
       "        vertical-align: top;\n",
       "    }\n",
       "\n",
       "    .dataframe thead th {\n",
       "        text-align: right;\n",
       "    }\n",
       "</style>\n",
       "<table border=\"1\" class=\"dataframe\">\n",
       "  <thead>\n",
       "    <tr style=\"text-align: right;\">\n",
       "      <th></th>\n",
       "      <th>P</th>\n",
       "      <th>Q</th>\n",
       "    </tr>\n",
       "  </thead>\n",
       "  <tbody>\n",
       "    <tr>\n",
       "      <th>p</th>\n",
       "      <td>10</td>\n",
       "      <td>40</td>\n",
       "    </tr>\n",
       "    <tr>\n",
       "      <th>q</th>\n",
       "      <td>20</td>\n",
       "      <td>50</td>\n",
       "    </tr>\n",
       "    <tr>\n",
       "      <th>r</th>\n",
       "      <td>30</td>\n",
       "      <td>60</td>\n",
       "    </tr>\n",
       "  </tbody>\n",
       "</table>\n",
       "</div>"
      ],
      "text/plain": [
       "    P   Q\n",
       "p  10  40\n",
       "q  20  50\n",
       "r  30  60"
      ]
     },
     "execution_count": 43,
     "metadata": {},
     "output_type": "execute_result"
    }
   ],
   "source": [
    "# Import Dask and Pandas DataFrame\n",
    "import dask.dataframe as dd\n",
    "import pandas as pd\n",
    "\n",
    "# Create Pandas DataFrame\n",
    "df = pd.DataFrame({\"P\": [10, 20, 30], \"Q\": [40, 50, 60]},\n",
    "                  index=['p', 'q', 'r'])\n",
    "\n",
    "# Create Dask DataFrame\n",
    "ddf = dd.from_pandas(df, npartitions=2)\n",
    "\n",
    "# Check top records\n",
    "ddf.head()"
   ]
  },
  {
   "cell_type": "code",
   "execution_count": 46,
   "metadata": {},
   "outputs": [
    {
     "data": {
      "text/plain": [
       "Dask Series Structure:\n",
       "npartitions=1\n",
       "p    int64\n",
       "r      ...\n",
       "Name: P, dtype: int64\n",
       "Dask Name: getitem, 2 tasks"
      ]
     },
     "execution_count": 46,
     "metadata": {},
     "output_type": "execute_result"
    }
   ],
   "source": [
    "# Single Column Selection\n",
    "ddf['P']"
   ]
  },
  {
   "cell_type": "code",
   "execution_count": 47,
   "metadata": {},
   "outputs": [
    {
     "data": {
      "text/html": [
       "<div><strong>Dask DataFrame Structure:</strong></div>\n",
       "<div>\n",
       "<style scoped>\n",
       "    .dataframe tbody tr th:only-of-type {\n",
       "        vertical-align: middle;\n",
       "    }\n",
       "\n",
       "    .dataframe tbody tr th {\n",
       "        vertical-align: top;\n",
       "    }\n",
       "\n",
       "    .dataframe thead th {\n",
       "        text-align: right;\n",
       "    }\n",
       "</style>\n",
       "<table border=\"1\" class=\"dataframe\">\n",
       "  <thead>\n",
       "    <tr style=\"text-align: right;\">\n",
       "      <th></th>\n",
       "      <th>Q</th>\n",
       "      <th>P</th>\n",
       "    </tr>\n",
       "    <tr>\n",
       "      <th>npartitions=1</th>\n",
       "      <th></th>\n",
       "      <th></th>\n",
       "    </tr>\n",
       "  </thead>\n",
       "  <tbody>\n",
       "    <tr>\n",
       "      <th>p</th>\n",
       "      <td>int64</td>\n",
       "      <td>int64</td>\n",
       "    </tr>\n",
       "    <tr>\n",
       "      <th>r</th>\n",
       "      <td>...</td>\n",
       "      <td>...</td>\n",
       "    </tr>\n",
       "  </tbody>\n",
       "</table>\n",
       "</div>\n",
       "<div>Dask Name: getitem, 2 tasks</div>"
      ],
      "text/plain": [
       "Dask DataFrame Structure:\n",
       "                   Q      P\n",
       "npartitions=1              \n",
       "p              int64  int64\n",
       "r                ...    ...\n",
       "Dask Name: getitem, 2 tasks"
      ]
     },
     "execution_count": 47,
     "metadata": {},
     "output_type": "execute_result"
    }
   ],
   "source": [
    "# Multiple Column Selection\n",
    "ddf[['Q', 'P']]"
   ]
  },
  {
   "cell_type": "code",
   "execution_count": 48,
   "metadata": {},
   "outputs": [
    {
     "name": "stderr",
     "output_type": "stream",
     "text": [
      "/home/avinash/anaconda3/lib/python3.7/site-packages/dask/dataframe/core.py:5890: UserWarning: Insufficient elements for `head`. 5 elements requested, only 3 elements available. Try passing larger `npartitions` to `head`.\n",
      "  warnings.warn(msg.format(n, len(r)))\n"
     ]
    },
    {
     "data": {
      "text/html": [
       "<div>\n",
       "<style scoped>\n",
       "    .dataframe tbody tr th:only-of-type {\n",
       "        vertical-align: middle;\n",
       "    }\n",
       "\n",
       "    .dataframe tbody tr th {\n",
       "        vertical-align: top;\n",
       "    }\n",
       "\n",
       "    .dataframe thead th {\n",
       "        text-align: right;\n",
       "    }\n",
       "</style>\n",
       "<table border=\"1\" class=\"dataframe\">\n",
       "  <thead>\n",
       "    <tr style=\"text-align: right;\">\n",
       "      <th></th>\n",
       "      <th>X</th>\n",
       "      <th>Y</th>\n",
       "    </tr>\n",
       "  </thead>\n",
       "  <tbody>\n",
       "    <tr>\n",
       "      <th>0</th>\n",
       "      <td>11</td>\n",
       "      <td>41</td>\n",
       "    </tr>\n",
       "    <tr>\n",
       "      <th>1</th>\n",
       "      <td>12</td>\n",
       "      <td>51</td>\n",
       "    </tr>\n",
       "    <tr>\n",
       "      <th>2</th>\n",
       "      <td>13</td>\n",
       "      <td>61</td>\n",
       "    </tr>\n",
       "  </tbody>\n",
       "</table>\n",
       "</div>"
      ],
      "text/plain": [
       "    X   Y\n",
       "0  11  41\n",
       "1  12  51\n",
       "2  13  61"
      ]
     },
     "execution_count": 48,
     "metadata": {},
     "output_type": "execute_result"
    }
   ],
   "source": [
    "# Import Dask and Pandas DataFrame\n",
    "import dask.dataframe as dd\n",
    "import pandas as pd\n",
    "\n",
    "# Create Pandas DataFrame\n",
    "df = pd.DataFrame({\"X\": [11, 12, 13], \"Y\": [41, 51, 61]})\n",
    "\n",
    "# Create Dask DataFrame\n",
    "ddf = dd.from_pandas(df, npartitions=2)\n",
    "\n",
    "# Check top records\n",
    "ddf.head()"
   ]
  },
  {
   "cell_type": "code",
   "execution_count": 49,
   "metadata": {},
   "outputs": [
    {
     "data": {
      "text/html": [
       "<div>\n",
       "<style scoped>\n",
       "    .dataframe tbody tr th:only-of-type {\n",
       "        vertical-align: middle;\n",
       "    }\n",
       "\n",
       "    .dataframe tbody tr th {\n",
       "        vertical-align: top;\n",
       "    }\n",
       "\n",
       "    .dataframe thead th {\n",
       "        text-align: right;\n",
       "    }\n",
       "</style>\n",
       "<table border=\"1\" class=\"dataframe\">\n",
       "  <thead>\n",
       "    <tr style=\"text-align: right;\">\n",
       "      <th></th>\n",
       "      <th>Y</th>\n",
       "      <th>X</th>\n",
       "    </tr>\n",
       "  </thead>\n",
       "  <tbody>\n",
       "    <tr>\n",
       "      <th>0</th>\n",
       "      <td>41</td>\n",
       "      <td>11</td>\n",
       "    </tr>\n",
       "    <tr>\n",
       "      <th>1</th>\n",
       "      <td>51</td>\n",
       "      <td>12</td>\n",
       "    </tr>\n",
       "    <tr>\n",
       "      <th>2</th>\n",
       "      <td>61</td>\n",
       "      <td>13</td>\n",
       "    </tr>\n",
       "  </tbody>\n",
       "</table>\n",
       "</div>"
      ],
      "text/plain": [
       "    Y   X\n",
       "0  41  11\n",
       "1  51  12\n",
       "2  61  13"
      ]
     },
     "execution_count": 49,
     "metadata": {},
     "output_type": "execute_result"
    }
   ],
   "source": [
    "ddf.iloc[:, [1, 0]].compute()"
   ]
  },
  {
   "cell_type": "code",
   "execution_count": 50,
   "metadata": {},
   "outputs": [
    {
     "ename": "NotImplementedError",
     "evalue": "'DataFrame.iloc' only supports selecting columns. It must be used like 'df.iloc[:, column_indexer]'.",
     "output_type": "error",
     "traceback": [
      "\u001b[0;31m---------------------------------------------------------------------------\u001b[0m",
      "\u001b[0;31mNotImplementedError\u001b[0m                       Traceback (most recent call last)",
      "\u001b[0;32m<ipython-input-50-eddd43b5f4d8>\u001b[0m in \u001b[0;36m<module>\u001b[0;34m\u001b[0m\n\u001b[0;32m----> 1\u001b[0;31m \u001b[0mddf\u001b[0m\u001b[0;34m.\u001b[0m\u001b[0miloc\u001b[0m\u001b[0;34m[\u001b[0m\u001b[0;36m0\u001b[0m\u001b[0;34m:\u001b[0m\u001b[0;36m4\u001b[0m\u001b[0;34m,\u001b[0m \u001b[0;34m[\u001b[0m\u001b[0;36m1\u001b[0m\u001b[0;34m,\u001b[0m \u001b[0;36m0\u001b[0m\u001b[0;34m]\u001b[0m\u001b[0;34m]\u001b[0m\u001b[0;34m.\u001b[0m\u001b[0mcompute\u001b[0m\u001b[0;34m(\u001b[0m\u001b[0;34m)\u001b[0m\u001b[0;34m\u001b[0m\u001b[0;34m\u001b[0m\u001b[0m\n\u001b[0m",
      "\u001b[0;32m~/anaconda3/lib/python3.7/site-packages/dask/dataframe/indexing.py\u001b[0m in \u001b[0;36m__getitem__\u001b[0;34m(self, key)\u001b[0m\n\u001b[1;32m     57\u001b[0m \u001b[0;34m\u001b[0m\u001b[0m\n\u001b[1;32m     58\u001b[0m         \u001b[0;32mif\u001b[0m \u001b[0miindexer\u001b[0m \u001b[0;34m!=\u001b[0m \u001b[0mslice\u001b[0m\u001b[0;34m(\u001b[0m\u001b[0;32mNone\u001b[0m\u001b[0;34m)\u001b[0m\u001b[0;34m:\u001b[0m\u001b[0;34m\u001b[0m\u001b[0;34m\u001b[0m\u001b[0m\n\u001b[0;32m---> 59\u001b[0;31m             \u001b[0;32mraise\u001b[0m \u001b[0mNotImplementedError\u001b[0m\u001b[0;34m(\u001b[0m\u001b[0mmsg\u001b[0m\u001b[0;34m)\u001b[0m\u001b[0;34m\u001b[0m\u001b[0;34m\u001b[0m\u001b[0m\n\u001b[0m\u001b[1;32m     60\u001b[0m \u001b[0;34m\u001b[0m\u001b[0m\n\u001b[1;32m     61\u001b[0m         \u001b[0;32mreturn\u001b[0m \u001b[0mself\u001b[0m\u001b[0;34m.\u001b[0m\u001b[0m_iloc\u001b[0m\u001b[0;34m(\u001b[0m\u001b[0miindexer\u001b[0m\u001b[0;34m,\u001b[0m \u001b[0mcindexer\u001b[0m\u001b[0;34m)\u001b[0m\u001b[0;34m\u001b[0m\u001b[0;34m\u001b[0m\u001b[0m\n",
      "\u001b[0;31mNotImplementedError\u001b[0m: 'DataFrame.iloc' only supports selecting columns. It must be used like 'df.iloc[:, column_indexer]'."
     ]
    }
   ],
   "source": [
    "ddf.iloc[0:4, [1, 0]].compute()"
   ]
  },
  {
   "cell_type": "markdown",
   "metadata": {},
   "source": [
    "### Filter data"
   ]
  },
  {
   "cell_type": "code",
   "execution_count": 3,
   "metadata": {
    "colab": {},
    "colab_type": "code",
    "id": "by3FWbKgawGY",
    "outputId": "e5650894-cd34-41cb-dbce-3959c1d763ff"
   },
   "outputs": [
    {
     "data": {
      "text/html": [
       "<div>\n",
       "<style scoped>\n",
       "    .dataframe tbody tr th:only-of-type {\n",
       "        vertical-align: middle;\n",
       "    }\n",
       "\n",
       "    .dataframe tbody tr th {\n",
       "        vertical-align: top;\n",
       "    }\n",
       "\n",
       "    .dataframe thead th {\n",
       "        text-align: right;\n",
       "    }\n",
       "</style>\n",
       "<table border=\"1\" class=\"dataframe\">\n",
       "  <thead>\n",
       "    <tr style=\"text-align: right;\">\n",
       "      <th></th>\n",
       "      <th>satisfaction_level</th>\n",
       "      <th>last_evaluation</th>\n",
       "      <th>number_project</th>\n",
       "      <th>average_montly_hours</th>\n",
       "      <th>time_spend_company</th>\n",
       "      <th>Work_accident</th>\n",
       "      <th>left</th>\n",
       "      <th>promotion_last_5years</th>\n",
       "      <th>Departments</th>\n",
       "      <th>salary</th>\n",
       "    </tr>\n",
       "  </thead>\n",
       "  <tbody>\n",
       "    <tr>\n",
       "      <th>0</th>\n",
       "      <td>0.38</td>\n",
       "      <td>0.53</td>\n",
       "      <td>2</td>\n",
       "      <td>157</td>\n",
       "      <td>3</td>\n",
       "      <td>0</td>\n",
       "      <td>1</td>\n",
       "      <td>0</td>\n",
       "      <td>sales</td>\n",
       "      <td>low</td>\n",
       "    </tr>\n",
       "    <tr>\n",
       "      <th>1</th>\n",
       "      <td>0.80</td>\n",
       "      <td>0.86</td>\n",
       "      <td>5</td>\n",
       "      <td>262</td>\n",
       "      <td>6</td>\n",
       "      <td>0</td>\n",
       "      <td>1</td>\n",
       "      <td>0</td>\n",
       "      <td>sales</td>\n",
       "      <td>medium</td>\n",
       "    </tr>\n",
       "    <tr>\n",
       "      <th>2</th>\n",
       "      <td>0.11</td>\n",
       "      <td>0.88</td>\n",
       "      <td>7</td>\n",
       "      <td>272</td>\n",
       "      <td>4</td>\n",
       "      <td>0</td>\n",
       "      <td>1</td>\n",
       "      <td>0</td>\n",
       "      <td>sales</td>\n",
       "      <td>medium</td>\n",
       "    </tr>\n",
       "    <tr>\n",
       "      <th>3</th>\n",
       "      <td>0.72</td>\n",
       "      <td>0.87</td>\n",
       "      <td>5</td>\n",
       "      <td>223</td>\n",
       "      <td>5</td>\n",
       "      <td>0</td>\n",
       "      <td>1</td>\n",
       "      <td>0</td>\n",
       "      <td>sales</td>\n",
       "      <td>low</td>\n",
       "    </tr>\n",
       "    <tr>\n",
       "      <th>4</th>\n",
       "      <td>0.37</td>\n",
       "      <td>0.52</td>\n",
       "      <td>2</td>\n",
       "      <td>159</td>\n",
       "      <td>3</td>\n",
       "      <td>0</td>\n",
       "      <td>1</td>\n",
       "      <td>0</td>\n",
       "      <td>sales</td>\n",
       "      <td>low</td>\n",
       "    </tr>\n",
       "  </tbody>\n",
       "</table>\n",
       "</div>"
      ],
      "text/plain": [
       "   satisfaction_level  last_evaluation  number_project  average_montly_hours  \\\n",
       "0                0.38             0.53               2                   157   \n",
       "1                0.80             0.86               5                   262   \n",
       "2                0.11             0.88               7                   272   \n",
       "3                0.72             0.87               5                   223   \n",
       "4                0.37             0.52               2                   159   \n",
       "\n",
       "   time_spend_company  Work_accident  left  promotion_last_5years  \\\n",
       "0                   3              0     1                      0   \n",
       "1                   6              0     1                      0   \n",
       "2                   4              0     1                      0   \n",
       "3                   5              0     1                      0   \n",
       "4                   3              0     1                      0   \n",
       "\n",
       "  Departments   salary  \n",
       "0        sales     low  \n",
       "1        sales  medium  \n",
       "2        sales  medium  \n",
       "3        sales     low  \n",
       "4        sales     low  "
      ]
     },
     "execution_count": 3,
     "metadata": {},
     "output_type": "execute_result"
    }
   ],
   "source": [
    "# Import Dask DataFrame\n",
    "import dask.dataframe as dd\n",
    "\n",
    "# Read CSV file\n",
    "ddf = dd.read_csv('HR_comma_sep.csv')\n",
    "\n",
    "# See top 5 records\n",
    "ddf.head(5)"
   ]
  },
  {
   "cell_type": "code",
   "execution_count": 4,
   "metadata": {},
   "outputs": [
    {
     "data": {
      "text/html": [
       "<div>\n",
       "<style scoped>\n",
       "    .dataframe tbody tr th:only-of-type {\n",
       "        vertical-align: middle;\n",
       "    }\n",
       "\n",
       "    .dataframe tbody tr th {\n",
       "        vertical-align: top;\n",
       "    }\n",
       "\n",
       "    .dataframe thead th {\n",
       "        text-align: right;\n",
       "    }\n",
       "</style>\n",
       "<table border=\"1\" class=\"dataframe\">\n",
       "  <thead>\n",
       "    <tr style=\"text-align: right;\">\n",
       "      <th></th>\n",
       "      <th>satisfaction_level</th>\n",
       "      <th>last_evaluation</th>\n",
       "      <th>number_project</th>\n",
       "      <th>average_montly_hours</th>\n",
       "      <th>time_spend_company</th>\n",
       "      <th>Work_accident</th>\n",
       "      <th>left</th>\n",
       "      <th>promotion_last_5years</th>\n",
       "      <th>Departments</th>\n",
       "      <th>salary</th>\n",
       "    </tr>\n",
       "  </thead>\n",
       "  <tbody>\n",
       "    <tr>\n",
       "      <th>0</th>\n",
       "      <td>0.38</td>\n",
       "      <td>0.53</td>\n",
       "      <td>2</td>\n",
       "      <td>157</td>\n",
       "      <td>3</td>\n",
       "      <td>0</td>\n",
       "      <td>1</td>\n",
       "      <td>0</td>\n",
       "      <td>sales</td>\n",
       "      <td>low</td>\n",
       "    </tr>\n",
       "    <tr>\n",
       "      <th>3</th>\n",
       "      <td>0.72</td>\n",
       "      <td>0.87</td>\n",
       "      <td>5</td>\n",
       "      <td>223</td>\n",
       "      <td>5</td>\n",
       "      <td>0</td>\n",
       "      <td>1</td>\n",
       "      <td>0</td>\n",
       "      <td>sales</td>\n",
       "      <td>low</td>\n",
       "    </tr>\n",
       "    <tr>\n",
       "      <th>4</th>\n",
       "      <td>0.37</td>\n",
       "      <td>0.52</td>\n",
       "      <td>2</td>\n",
       "      <td>159</td>\n",
       "      <td>3</td>\n",
       "      <td>0</td>\n",
       "      <td>1</td>\n",
       "      <td>0</td>\n",
       "      <td>sales</td>\n",
       "      <td>low</td>\n",
       "    </tr>\n",
       "    <tr>\n",
       "      <th>5</th>\n",
       "      <td>0.41</td>\n",
       "      <td>0.50</td>\n",
       "      <td>2</td>\n",
       "      <td>153</td>\n",
       "      <td>3</td>\n",
       "      <td>0</td>\n",
       "      <td>1</td>\n",
       "      <td>0</td>\n",
       "      <td>sales</td>\n",
       "      <td>low</td>\n",
       "    </tr>\n",
       "    <tr>\n",
       "      <th>6</th>\n",
       "      <td>0.10</td>\n",
       "      <td>0.77</td>\n",
       "      <td>6</td>\n",
       "      <td>247</td>\n",
       "      <td>4</td>\n",
       "      <td>0</td>\n",
       "      <td>1</td>\n",
       "      <td>0</td>\n",
       "      <td>sales</td>\n",
       "      <td>low</td>\n",
       "    </tr>\n",
       "  </tbody>\n",
       "</table>\n",
       "</div>"
      ],
      "text/plain": [
       "   satisfaction_level  last_evaluation  number_project  average_montly_hours  \\\n",
       "0                0.38             0.53               2                   157   \n",
       "3                0.72             0.87               5                   223   \n",
       "4                0.37             0.52               2                   159   \n",
       "5                0.41             0.50               2                   153   \n",
       "6                0.10             0.77               6                   247   \n",
       "\n",
       "   time_spend_company  Work_accident  left  promotion_last_5years  \\\n",
       "0                   3              0     1                      0   \n",
       "3                   5              0     1                      0   \n",
       "4                   3              0     1                      0   \n",
       "5                   3              0     1                      0   \n",
       "6                   4              0     1                      0   \n",
       "\n",
       "  Departments  salary  \n",
       "0        sales    low  \n",
       "3        sales    low  \n",
       "4        sales    low  \n",
       "5        sales    low  \n",
       "6        sales    low  "
      ]
     },
     "execution_count": 4,
     "metadata": {},
     "output_type": "execute_result"
    }
   ],
   "source": [
    "# Filter employee with low salary\n",
    "ddf2 = ddf[ddf.salary == 'low']\n",
    "ddf2.compute().head()"
   ]
  },
  {
   "cell_type": "code",
   "execution_count": null,
   "metadata": {},
   "outputs": [],
   "source": []
  },
  {
   "cell_type": "code",
   "execution_count": 5,
   "metadata": {},
   "outputs": [
    {
     "data": {
      "text/html": [
       "<div>\n",
       "<style scoped>\n",
       "    .dataframe tbody tr th:only-of-type {\n",
       "        vertical-align: middle;\n",
       "    }\n",
       "\n",
       "    .dataframe tbody tr th {\n",
       "        vertical-align: top;\n",
       "    }\n",
       "\n",
       "    .dataframe thead th {\n",
       "        text-align: right;\n",
       "    }\n",
       "</style>\n",
       "<table border=\"1\" class=\"dataframe\">\n",
       "  <thead>\n",
       "    <tr style=\"text-align: right;\">\n",
       "      <th></th>\n",
       "      <th>satisfaction_level</th>\n",
       "      <th>last_evaluation</th>\n",
       "      <th>number_project</th>\n",
       "      <th>average_montly_hours</th>\n",
       "      <th>time_spend_company</th>\n",
       "      <th>Work_accident</th>\n",
       "      <th>promotion_last_5years</th>\n",
       "    </tr>\n",
       "    <tr>\n",
       "      <th>left</th>\n",
       "      <th></th>\n",
       "      <th></th>\n",
       "      <th></th>\n",
       "      <th></th>\n",
       "      <th></th>\n",
       "      <th></th>\n",
       "      <th></th>\n",
       "    </tr>\n",
       "  </thead>\n",
       "  <tbody>\n",
       "    <tr>\n",
       "      <th>0</th>\n",
       "      <td>0.666810</td>\n",
       "      <td>0.715473</td>\n",
       "      <td>3.786664</td>\n",
       "      <td>199.060203</td>\n",
       "      <td>3.380032</td>\n",
       "      <td>0.175009</td>\n",
       "      <td>0.026251</td>\n",
       "    </tr>\n",
       "    <tr>\n",
       "      <th>1</th>\n",
       "      <td>0.440098</td>\n",
       "      <td>0.718113</td>\n",
       "      <td>3.855503</td>\n",
       "      <td>207.419210</td>\n",
       "      <td>3.876505</td>\n",
       "      <td>0.047326</td>\n",
       "      <td>0.005321</td>\n",
       "    </tr>\n",
       "  </tbody>\n",
       "</table>\n",
       "</div>"
      ],
      "text/plain": [
       "      satisfaction_level  last_evaluation  number_project  \\\n",
       "left                                                        \n",
       "0               0.666810         0.715473        3.786664   \n",
       "1               0.440098         0.718113        3.855503   \n",
       "\n",
       "      average_montly_hours  time_spend_company  Work_accident  \\\n",
       "left                                                            \n",
       "0               199.060203            3.380032       0.175009   \n",
       "1               207.419210            3.876505       0.047326   \n",
       "\n",
       "      promotion_last_5years  \n",
       "left                         \n",
       "0                  0.026251  \n",
       "1                  0.005321  "
      ]
     },
     "execution_count": 5,
     "metadata": {},
     "output_type": "execute_result"
    }
   ],
   "source": [
    "# Find average values of all the columns for employee left or stayed \n",
    "ddf.groupby('left').mean().compute()"
   ]
  },
  {
   "cell_type": "markdown",
   "metadata": {},
   "source": [
    "## Dask Bags"
   ]
  },
  {
   "cell_type": "markdown",
   "metadata": {},
   "source": [
    "### Creating Dask bag using Python Iterable items"
   ]
  },
  {
   "cell_type": "code",
   "execution_count": 41,
   "metadata": {},
   "outputs": [
    {
     "data": {
      "text/plain": [
       "(1, 2)"
      ]
     },
     "execution_count": 41,
     "metadata": {},
     "output_type": "execute_result"
    }
   ],
   "source": [
    "# Import dask bag\n",
    "import dask.bag as db\n",
    "\n",
    "# Create a bag of list items\n",
    "items_bag = db.from_sequence([1, 2, 3, 4, 5, 6, 7, 8, 9, 10], npartitions=3)\n",
    "\n",
    "# Take initial two items\n",
    "items_bag.take(2)"
   ]
  },
  {
   "cell_type": "code",
   "execution_count": 42,
   "metadata": {},
   "outputs": [
    {
     "data": {
      "text/plain": [
       "[1, 3, 5, 7, 9]"
      ]
     },
     "execution_count": 42,
     "metadata": {},
     "output_type": "execute_result"
    }
   ],
   "source": [
    "# Filter the bag of list items\n",
    "items_square=items_bag.filter(lambda x: x if x % 2 != 0 else None)\n",
    "\n",
    "# Compute the results\n",
    "items_square.compute()"
   ]
  },
  {
   "cell_type": "code",
   "execution_count": 9,
   "metadata": {},
   "outputs": [
    {
     "data": {
      "text/plain": [
       "[1, 4, 9, 16, 25, 36, 49, 64, 81, 100]"
      ]
     },
     "execution_count": 9,
     "metadata": {},
     "output_type": "execute_result"
    }
   ],
   "source": [
    "# Square the bag of list items\n",
    "items_square=items_b.map(lambda x: x**2)\n",
    "\n",
    "# Compute the results\n",
    "items_square.compute()"
   ]
  },
  {
   "cell_type": "markdown",
   "metadata": {},
   "source": [
    "### Creating Dask Bag using text file"
   ]
  },
  {
   "cell_type": "code",
   "execution_count": 11,
   "metadata": {},
   "outputs": [
    {
     "data": {
      "text/plain": [
       "('Hi! how are you? \\n', '\\n')"
      ]
     },
     "execution_count": 11,
     "metadata": {},
     "output_type": "execute_result"
    }
   ],
   "source": [
    "# Import dask bag\n",
    "import dask.bag as db\n",
    "\n",
    "# Create a bag of text file\n",
    "text = db.read_text('sample.txt')\n",
    "\n",
    "# Show initial 1 items from text\n",
    "text.take(2)"
   ]
  },
  {
   "cell_type": "markdown",
   "metadata": {},
   "source": [
    "### Storing Dask Bag into text file"
   ]
  },
  {
   "cell_type": "code",
   "execution_count": 18,
   "metadata": {},
   "outputs": [
    {
     "data": {
      "text/plain": [
       "['/home/avinash/Documents/notebooks/packt/ch14/0.txt.gz']"
      ]
     },
     "execution_count": 18,
     "metadata": {},
     "output_type": "execute_result"
    }
   ],
   "source": [
    "# Convert dask bag object into text file\n",
    "text.to_textfiles('*.txt.gz')"
   ]
  },
  {
   "cell_type": "markdown",
   "metadata": {},
   "source": [
    "### Storing Dask Bag into DataFrame"
   ]
  },
  {
   "cell_type": "code",
   "execution_count": 16,
   "metadata": {},
   "outputs": [
    {
     "data": {
      "text/html": [
       "<div>\n",
       "<style scoped>\n",
       "    .dataframe tbody tr th:only-of-type {\n",
       "        vertical-align: middle;\n",
       "    }\n",
       "\n",
       "    .dataframe tbody tr th {\n",
       "        vertical-align: top;\n",
       "    }\n",
       "\n",
       "    .dataframe thead th {\n",
       "        text-align: right;\n",
       "    }\n",
       "</style>\n",
       "<table border=\"1\" class=\"dataframe\">\n",
       "  <thead>\n",
       "    <tr style=\"text-align: right;\">\n",
       "      <th></th>\n",
       "      <th>item_name</th>\n",
       "      <th>price</th>\n",
       "    </tr>\n",
       "  </thead>\n",
       "  <tbody>\n",
       "    <tr>\n",
       "      <th>0</th>\n",
       "      <td>Egg</td>\n",
       "      <td>5</td>\n",
       "    </tr>\n",
       "    <tr>\n",
       "      <th>1</th>\n",
       "      <td>Bread</td>\n",
       "      <td>20</td>\n",
       "    </tr>\n",
       "    <tr>\n",
       "      <th>0</th>\n",
       "      <td>Milk</td>\n",
       "      <td>54</td>\n",
       "    </tr>\n",
       "  </tbody>\n",
       "</table>\n",
       "</div>"
      ],
      "text/plain": [
       "  item_name  price\n",
       "0       Egg      5\n",
       "1     Bread     20\n",
       "0      Milk     54"
      ]
     },
     "execution_count": 16,
     "metadata": {},
     "output_type": "execute_result"
    }
   ],
   "source": [
    "# Import dask bag\n",
    "import dask.bag as db\n",
    "\n",
    "# Create a bag of dictionary items\n",
    "dict_bag = db.from_sequence([{'item_name': 'Egg', 'price': 5},\n",
    "                      {'item_name': 'Bread', 'price': 20},\n",
    "                      {'item_name': 'Milk', 'price': 54}],\n",
    "                      npartitions=2)\n",
    "\n",
    "# Convert bag object into dataframe\n",
    "df = dict_bag.to_dataframe()\n",
    "\n",
    "# Execute the graph results\n",
    "df.compute()\n"
   ]
  },
  {
   "cell_type": "markdown",
   "metadata": {},
   "source": [
    "## Dask Delayed"
   ]
  },
  {
   "cell_type": "code",
   "execution_count": 18,
   "metadata": {},
   "outputs": [
    {
     "data": {
      "text/plain": [
       "33.0"
      ]
     },
     "execution_count": 18,
     "metadata": {},
     "output_type": "execute_result"
    }
   ],
   "source": [
    "# Import dask delayed and compute\n",
    "from dask import delayed, compute\n",
    "\n",
    "# Create delayed function\n",
    "@delayed\n",
    "def cube(item):\n",
    "    return item ** 3\n",
    "\n",
    "# Create delayed function\n",
    "@delayed\n",
    "def average(items):\n",
    "    return sum(items)/len(items)\n",
    "\n",
    "# create a list\n",
    "item_list = [2, 3, 4]\n",
    "\n",
    "# Compute cube of given item list\n",
    "cube_list= [cube(i) for i in item_list]\n",
    "\n",
    "# Compute average of cube_list\n",
    "computation_graph = average(cube_list)\n",
    "\n",
    "# Compute the results\n",
    "computation_graph.compute()"
   ]
  },
  {
   "cell_type": "code",
   "execution_count": 19,
   "metadata": {},
   "outputs": [
    {
     "data": {
      "image/png": "[encoded data removed]",
      "text/plain": [
       "<IPython.core.display.Image object>"
      ]
     },
     "execution_count": 19,
     "metadata": {},
     "output_type": "execute_result"
    }
   ],
   "source": [
    "# Visualize the graph\n",
    "computation_graph.visualize()"
   ]
  },
  {
   "cell_type": "markdown",
   "metadata": {},
   "source": [
    "## Preprocessing"
   ]
  },
  {
   "cell_type": "markdown",
   "metadata": {},
   "source": [
    "### Feature Scaling"
   ]
  },
  {
   "cell_type": "code",
   "execution_count": 20,
   "metadata": {},
   "outputs": [
    {
     "data": {
      "text/html": [
       "<div>\n",
       "<style scoped>\n",
       "    .dataframe tbody tr th:only-of-type {\n",
       "        vertical-align: middle;\n",
       "    }\n",
       "\n",
       "    .dataframe tbody tr th {\n",
       "        vertical-align: top;\n",
       "    }\n",
       "\n",
       "    .dataframe thead th {\n",
       "        text-align: right;\n",
       "    }\n",
       "</style>\n",
       "<table border=\"1\" class=\"dataframe\">\n",
       "  <thead>\n",
       "    <tr style=\"text-align: right;\">\n",
       "      <th></th>\n",
       "      <th>satisfaction_level</th>\n",
       "      <th>last_evaluation</th>\n",
       "      <th>number_project</th>\n",
       "      <th>average_montly_hours</th>\n",
       "      <th>time_spend_company</th>\n",
       "      <th>Work_accident</th>\n",
       "      <th>left</th>\n",
       "      <th>promotion_last_5years</th>\n",
       "      <th>Departments</th>\n",
       "      <th>salary</th>\n",
       "    </tr>\n",
       "  </thead>\n",
       "  <tbody>\n",
       "    <tr>\n",
       "      <th>0</th>\n",
       "      <td>0.38</td>\n",
       "      <td>0.53</td>\n",
       "      <td>2</td>\n",
       "      <td>157</td>\n",
       "      <td>3</td>\n",
       "      <td>0</td>\n",
       "      <td>1</td>\n",
       "      <td>0</td>\n",
       "      <td>sales</td>\n",
       "      <td>low</td>\n",
       "    </tr>\n",
       "    <tr>\n",
       "      <th>1</th>\n",
       "      <td>0.80</td>\n",
       "      <td>0.86</td>\n",
       "      <td>5</td>\n",
       "      <td>262</td>\n",
       "      <td>6</td>\n",
       "      <td>0</td>\n",
       "      <td>1</td>\n",
       "      <td>0</td>\n",
       "      <td>sales</td>\n",
       "      <td>medium</td>\n",
       "    </tr>\n",
       "    <tr>\n",
       "      <th>2</th>\n",
       "      <td>0.11</td>\n",
       "      <td>0.88</td>\n",
       "      <td>7</td>\n",
       "      <td>272</td>\n",
       "      <td>4</td>\n",
       "      <td>0</td>\n",
       "      <td>1</td>\n",
       "      <td>0</td>\n",
       "      <td>sales</td>\n",
       "      <td>medium</td>\n",
       "    </tr>\n",
       "    <tr>\n",
       "      <th>3</th>\n",
       "      <td>0.72</td>\n",
       "      <td>0.87</td>\n",
       "      <td>5</td>\n",
       "      <td>223</td>\n",
       "      <td>5</td>\n",
       "      <td>0</td>\n",
       "      <td>1</td>\n",
       "      <td>0</td>\n",
       "      <td>sales</td>\n",
       "      <td>low</td>\n",
       "    </tr>\n",
       "    <tr>\n",
       "      <th>4</th>\n",
       "      <td>0.37</td>\n",
       "      <td>0.52</td>\n",
       "      <td>2</td>\n",
       "      <td>159</td>\n",
       "      <td>3</td>\n",
       "      <td>0</td>\n",
       "      <td>1</td>\n",
       "      <td>0</td>\n",
       "      <td>sales</td>\n",
       "      <td>low</td>\n",
       "    </tr>\n",
       "  </tbody>\n",
       "</table>\n",
       "</div>"
      ],
      "text/plain": [
       "   satisfaction_level  last_evaluation  number_project  average_montly_hours  \\\n",
       "0                0.38             0.53               2                   157   \n",
       "1                0.80             0.86               5                   262   \n",
       "2                0.11             0.88               7                   272   \n",
       "3                0.72             0.87               5                   223   \n",
       "4                0.37             0.52               2                   159   \n",
       "\n",
       "   time_spend_company  Work_accident  left  promotion_last_5years  \\\n",
       "0                   3              0     1                      0   \n",
       "1                   6              0     1                      0   \n",
       "2                   4              0     1                      0   \n",
       "3                   5              0     1                      0   \n",
       "4                   3              0     1                      0   \n",
       "\n",
       "  Departments   salary  \n",
       "0        sales     low  \n",
       "1        sales  medium  \n",
       "2        sales  medium  \n",
       "3        sales     low  \n",
       "4        sales     low  "
      ]
     },
     "execution_count": 20,
     "metadata": {},
     "output_type": "execute_result"
    }
   ],
   "source": [
    "# Import Dask DataFrame\n",
    "import dask.dataframe as dd\n",
    "\n",
    "# Read CSV file\n",
    "ddf = dd.read_csv('HR_comma_sep.csv')\n",
    "\n",
    "# See top 5 records\n",
    "ddf.head(5)"
   ]
  },
  {
   "cell_type": "code",
   "execution_count": null,
   "metadata": {},
   "outputs": [],
   "source": [
    "# Import MinMaxScaler\n",
    "from sklearn.preprocessing import MinMaxScaler\n",
    "\n",
    "# Instantiate the MinMaxScaler Object\n",
    "scaler = MinMaxScaler(feature_range=(0, 100))\n",
    "\n",
    "# Fit the data on Scaler\n",
    "scaler.fit(ddf[['last_evaluation']])\n",
    "\n",
    "# Transform the data\n",
    "performance_score=scaler.transform(ddf[['last_evaluation']])\n",
    "\n",
    "# Let's see the scaled performance score\n",
    "performance_score"
   ]
  },
  {
   "cell_type": "markdown",
   "metadata": {},
   "source": [
    "### Feature Encoding"
   ]
  },
  {
   "cell_type": "code",
   "execution_count": 21,
   "metadata": {},
   "outputs": [
    {
     "data": {
      "text/html": [
       "<div>\n",
       "<style scoped>\n",
       "    .dataframe tbody tr th:only-of-type {\n",
       "        vertical-align: middle;\n",
       "    }\n",
       "\n",
       "    .dataframe tbody tr th {\n",
       "        vertical-align: top;\n",
       "    }\n",
       "\n",
       "    .dataframe thead th {\n",
       "        text-align: right;\n",
       "    }\n",
       "</style>\n",
       "<table border=\"1\" class=\"dataframe\">\n",
       "  <thead>\n",
       "    <tr style=\"text-align: right;\">\n",
       "      <th></th>\n",
       "      <th>satisfaction_level</th>\n",
       "      <th>last_evaluation</th>\n",
       "      <th>number_project</th>\n",
       "      <th>average_montly_hours</th>\n",
       "      <th>time_spend_company</th>\n",
       "      <th>Work_accident</th>\n",
       "      <th>left</th>\n",
       "      <th>promotion_last_5years</th>\n",
       "      <th>Departments</th>\n",
       "      <th>salary</th>\n",
       "    </tr>\n",
       "  </thead>\n",
       "  <tbody>\n",
       "    <tr>\n",
       "      <th>0</th>\n",
       "      <td>0.38</td>\n",
       "      <td>0.53</td>\n",
       "      <td>2</td>\n",
       "      <td>157</td>\n",
       "      <td>3</td>\n",
       "      <td>0</td>\n",
       "      <td>1</td>\n",
       "      <td>0</td>\n",
       "      <td>sales</td>\n",
       "      <td>low</td>\n",
       "    </tr>\n",
       "    <tr>\n",
       "      <th>1</th>\n",
       "      <td>0.80</td>\n",
       "      <td>0.86</td>\n",
       "      <td>5</td>\n",
       "      <td>262</td>\n",
       "      <td>6</td>\n",
       "      <td>0</td>\n",
       "      <td>1</td>\n",
       "      <td>0</td>\n",
       "      <td>sales</td>\n",
       "      <td>medium</td>\n",
       "    </tr>\n",
       "    <tr>\n",
       "      <th>2</th>\n",
       "      <td>0.11</td>\n",
       "      <td>0.88</td>\n",
       "      <td>7</td>\n",
       "      <td>272</td>\n",
       "      <td>4</td>\n",
       "      <td>0</td>\n",
       "      <td>1</td>\n",
       "      <td>0</td>\n",
       "      <td>sales</td>\n",
       "      <td>medium</td>\n",
       "    </tr>\n",
       "    <tr>\n",
       "      <th>3</th>\n",
       "      <td>0.72</td>\n",
       "      <td>0.87</td>\n",
       "      <td>5</td>\n",
       "      <td>223</td>\n",
       "      <td>5</td>\n",
       "      <td>0</td>\n",
       "      <td>1</td>\n",
       "      <td>0</td>\n",
       "      <td>sales</td>\n",
       "      <td>low</td>\n",
       "    </tr>\n",
       "    <tr>\n",
       "      <th>4</th>\n",
       "      <td>0.37</td>\n",
       "      <td>0.52</td>\n",
       "      <td>2</td>\n",
       "      <td>159</td>\n",
       "      <td>3</td>\n",
       "      <td>0</td>\n",
       "      <td>1</td>\n",
       "      <td>0</td>\n",
       "      <td>sales</td>\n",
       "      <td>low</td>\n",
       "    </tr>\n",
       "  </tbody>\n",
       "</table>\n",
       "</div>"
      ],
      "text/plain": [
       "   satisfaction_level  last_evaluation  number_project  average_montly_hours  \\\n",
       "0                0.38             0.53               2                   157   \n",
       "1                0.80             0.86               5                   262   \n",
       "2                0.11             0.88               7                   272   \n",
       "3                0.72             0.87               5                   223   \n",
       "4                0.37             0.52               2                   159   \n",
       "\n",
       "   time_spend_company  Work_accident  left  promotion_last_5years  \\\n",
       "0                   3              0     1                      0   \n",
       "1                   6              0     1                      0   \n",
       "2                   4              0     1                      0   \n",
       "3                   5              0     1                      0   \n",
       "4                   3              0     1                      0   \n",
       "\n",
       "  Departments   salary  \n",
       "0        sales     low  \n",
       "1        sales  medium  \n",
       "2        sales  medium  \n",
       "3        sales     low  \n",
       "4        sales     low  "
      ]
     },
     "execution_count": 21,
     "metadata": {},
     "output_type": "execute_result"
    }
   ],
   "source": [
    "# Import Dask DataFrame\n",
    "import dask.dataframe as dd\n",
    "\n",
    "# Read CSV file\n",
    "ddf = dd.read_csv('HR_comma_sep.csv')\n",
    "\n",
    "# See top 5 records\n",
    "ddf.head(5)"
   ]
  },
  {
   "cell_type": "code",
   "execution_count": 22,
   "metadata": {},
   "outputs": [
    {
     "data": {
      "text/html": [
       "<div>\n",
       "<style scoped>\n",
       "    .dataframe tbody tr th:only-of-type {\n",
       "        vertical-align: middle;\n",
       "    }\n",
       "\n",
       "    .dataframe tbody tr th {\n",
       "        vertical-align: top;\n",
       "    }\n",
       "\n",
       "    .dataframe thead th {\n",
       "        text-align: right;\n",
       "    }\n",
       "</style>\n",
       "<table border=\"1\" class=\"dataframe\">\n",
       "  <thead>\n",
       "    <tr style=\"text-align: right;\">\n",
       "      <th></th>\n",
       "      <th>salary_low</th>\n",
       "      <th>salary_medium</th>\n",
       "      <th>salary_high</th>\n",
       "    </tr>\n",
       "  </thead>\n",
       "  <tbody>\n",
       "    <tr>\n",
       "      <th>0</th>\n",
       "      <td>1.0</td>\n",
       "      <td>0.0</td>\n",
       "      <td>0.0</td>\n",
       "    </tr>\n",
       "    <tr>\n",
       "      <th>1</th>\n",
       "      <td>0.0</td>\n",
       "      <td>1.0</td>\n",
       "      <td>0.0</td>\n",
       "    </tr>\n",
       "    <tr>\n",
       "      <th>2</th>\n",
       "      <td>0.0</td>\n",
       "      <td>1.0</td>\n",
       "      <td>0.0</td>\n",
       "    </tr>\n",
       "    <tr>\n",
       "      <th>3</th>\n",
       "      <td>1.0</td>\n",
       "      <td>0.0</td>\n",
       "      <td>0.0</td>\n",
       "    </tr>\n",
       "    <tr>\n",
       "      <th>4</th>\n",
       "      <td>1.0</td>\n",
       "      <td>0.0</td>\n",
       "      <td>0.0</td>\n",
       "    </tr>\n",
       "  </tbody>\n",
       "</table>\n",
       "</div>"
      ],
      "text/plain": [
       "   salary_low  salary_medium  salary_high\n",
       "0         1.0            0.0          0.0\n",
       "1         0.0            1.0          0.0\n",
       "2         0.0            1.0          0.0\n",
       "3         1.0            0.0          0.0\n",
       "4         1.0            0.0          0.0"
      ]
     },
     "execution_count": 22,
     "metadata": {},
     "output_type": "execute_result"
    }
   ],
   "source": [
    "# Import Onehot Encoder\n",
    "from dask_ml.preprocessing import Categorizer\n",
    "from dask_ml.preprocessing import OneHotEncoder\n",
    "from sklearn.pipeline import make_pipeline\n",
    "\n",
    "# Create pipeline with Categorizer and OneHotEncoder\n",
    "pipe = make_pipeline(\n",
    "    Categorizer(), OneHotEncoder())\n",
    "\n",
    "# Fit and transform the Categorizer and OneHotEncoder\n",
    "pipe.fit(ddf[['salary',]])\n",
    "result=pipe.transform(ddf[['salary',]])\n",
    "\n",
    "# See top 5 records\n",
    "result.head()"
   ]
  },
  {
   "cell_type": "code",
   "execution_count": 23,
   "metadata": {},
   "outputs": [
    {
     "data": {
      "text/html": [
       "<div>\n",
       "<style scoped>\n",
       "    .dataframe tbody tr th:only-of-type {\n",
       "        vertical-align: middle;\n",
       "    }\n",
       "\n",
       "    .dataframe tbody tr th {\n",
       "        vertical-align: top;\n",
       "    }\n",
       "\n",
       "    .dataframe thead th {\n",
       "        text-align: right;\n",
       "    }\n",
       "</style>\n",
       "<table border=\"1\" class=\"dataframe\">\n",
       "  <thead>\n",
       "    <tr style=\"text-align: right;\">\n",
       "      <th></th>\n",
       "      <th>salary</th>\n",
       "    </tr>\n",
       "  </thead>\n",
       "  <tbody>\n",
       "    <tr>\n",
       "      <th>0</th>\n",
       "      <td>0</td>\n",
       "    </tr>\n",
       "    <tr>\n",
       "      <th>1</th>\n",
       "      <td>1</td>\n",
       "    </tr>\n",
       "    <tr>\n",
       "      <th>2</th>\n",
       "      <td>1</td>\n",
       "    </tr>\n",
       "    <tr>\n",
       "      <th>3</th>\n",
       "      <td>0</td>\n",
       "    </tr>\n",
       "    <tr>\n",
       "      <th>4</th>\n",
       "      <td>0</td>\n",
       "    </tr>\n",
       "  </tbody>\n",
       "</table>\n",
       "</div>"
      ],
      "text/plain": [
       "   salary\n",
       "0       0\n",
       "1       1\n",
       "2       1\n",
       "3       0\n",
       "4       0"
      ]
     },
     "execution_count": 23,
     "metadata": {},
     "output_type": "execute_result"
    }
   ],
   "source": [
    "# Import Onehot Encoder\n",
    "from dask_ml.preprocessing import Categorizer\n",
    "from dask_ml.preprocessing import OrdinalEncoder\n",
    "from sklearn.pipeline import make_pipeline\n",
    "\n",
    "# Create pipeline with Categorizer and OrdinalEncoder\n",
    "pipe = make_pipeline(\n",
    "    Categorizer(), OrdinalEncoder())\n",
    "\n",
    "# Fit and transform the Categorizer and OneHotEncoder\n",
    "pipe.fit(ddf[['salary',]])\n",
    "result=pipe.transform(ddf[['salary',]])\n",
    "\n",
    "# Let's see encoded results\n",
    "result.head()\n"
   ]
  },
  {
   "cell_type": "markdown",
   "metadata": {},
   "source": [
    "## Machine Learning"
   ]
  },
  {
   "cell_type": "markdown",
   "metadata": {},
   "source": [
    "### Parallel Computing using Scikit-learn "
   ]
  },
  {
   "cell_type": "code",
   "execution_count": 24,
   "metadata": {},
   "outputs": [
    {
     "data": {
      "text/html": [
       "<div>\n",
       "<style scoped>\n",
       "    .dataframe tbody tr th:only-of-type {\n",
       "        vertical-align: middle;\n",
       "    }\n",
       "\n",
       "    .dataframe tbody tr th {\n",
       "        vertical-align: top;\n",
       "    }\n",
       "\n",
       "    .dataframe thead th {\n",
       "        text-align: right;\n",
       "    }\n",
       "</style>\n",
       "<table border=\"1\" class=\"dataframe\">\n",
       "  <thead>\n",
       "    <tr style=\"text-align: right;\">\n",
       "      <th></th>\n",
       "      <th>satisfaction_level</th>\n",
       "      <th>last_evaluation</th>\n",
       "      <th>number_project</th>\n",
       "      <th>average_montly_hours</th>\n",
       "      <th>time_spend_company</th>\n",
       "      <th>Work_accident</th>\n",
       "      <th>left</th>\n",
       "      <th>promotion_last_5years</th>\n",
       "      <th>Departments</th>\n",
       "      <th>salary</th>\n",
       "    </tr>\n",
       "  </thead>\n",
       "  <tbody>\n",
       "    <tr>\n",
       "      <th>0</th>\n",
       "      <td>0.38</td>\n",
       "      <td>0.53</td>\n",
       "      <td>2</td>\n",
       "      <td>157</td>\n",
       "      <td>3</td>\n",
       "      <td>0</td>\n",
       "      <td>1</td>\n",
       "      <td>0</td>\n",
       "      <td>sales</td>\n",
       "      <td>low</td>\n",
       "    </tr>\n",
       "    <tr>\n",
       "      <th>1</th>\n",
       "      <td>0.80</td>\n",
       "      <td>0.86</td>\n",
       "      <td>5</td>\n",
       "      <td>262</td>\n",
       "      <td>6</td>\n",
       "      <td>0</td>\n",
       "      <td>1</td>\n",
       "      <td>0</td>\n",
       "      <td>sales</td>\n",
       "      <td>medium</td>\n",
       "    </tr>\n",
       "    <tr>\n",
       "      <th>2</th>\n",
       "      <td>0.11</td>\n",
       "      <td>0.88</td>\n",
       "      <td>7</td>\n",
       "      <td>272</td>\n",
       "      <td>4</td>\n",
       "      <td>0</td>\n",
       "      <td>1</td>\n",
       "      <td>0</td>\n",
       "      <td>sales</td>\n",
       "      <td>medium</td>\n",
       "    </tr>\n",
       "    <tr>\n",
       "      <th>3</th>\n",
       "      <td>0.72</td>\n",
       "      <td>0.87</td>\n",
       "      <td>5</td>\n",
       "      <td>223</td>\n",
       "      <td>5</td>\n",
       "      <td>0</td>\n",
       "      <td>1</td>\n",
       "      <td>0</td>\n",
       "      <td>sales</td>\n",
       "      <td>low</td>\n",
       "    </tr>\n",
       "    <tr>\n",
       "      <th>4</th>\n",
       "      <td>0.37</td>\n",
       "      <td>0.52</td>\n",
       "      <td>2</td>\n",
       "      <td>159</td>\n",
       "      <td>3</td>\n",
       "      <td>0</td>\n",
       "      <td>1</td>\n",
       "      <td>0</td>\n",
       "      <td>sales</td>\n",
       "      <td>low</td>\n",
       "    </tr>\n",
       "  </tbody>\n",
       "</table>\n",
       "</div>"
      ],
      "text/plain": [
       "   satisfaction_level  last_evaluation  number_project  average_montly_hours  \\\n",
       "0                0.38             0.53               2                   157   \n",
       "1                0.80             0.86               5                   262   \n",
       "2                0.11             0.88               7                   272   \n",
       "3                0.72             0.87               5                   223   \n",
       "4                0.37             0.52               2                   159   \n",
       "\n",
       "   time_spend_company  Work_accident  left  promotion_last_5years  \\\n",
       "0                   3              0     1                      0   \n",
       "1                   6              0     1                      0   \n",
       "2                   4              0     1                      0   \n",
       "3                   5              0     1                      0   \n",
       "4                   3              0     1                      0   \n",
       "\n",
       "  Departments   salary  \n",
       "0        sales     low  \n",
       "1        sales  medium  \n",
       "2        sales  medium  \n",
       "3        sales     low  \n",
       "4        sales     low  "
      ]
     },
     "execution_count": 24,
     "metadata": {},
     "output_type": "execute_result"
    }
   ],
   "source": [
    "# Import Dask DataFrame\n",
    "import pandas as pd\n",
    "\n",
    "# Read CSV file\n",
    "df = pd.read_csv('/home/avinash/Documents/data/HR_comma_sep.csv')\n",
    "\n",
    "# See top 5 records\n",
    "df.head(5)"
   ]
  },
  {
   "cell_type": "code",
   "execution_count": 25,
   "metadata": {},
   "outputs": [],
   "source": [
    "# select the feature and target columns\n",
    "data=df[['satisfaction_level', 'last_evaluation']]\n",
    "label=df['left']"
   ]
  },
  {
   "cell_type": "code",
   "execution_count": 26,
   "metadata": {},
   "outputs": [],
   "source": [
    "# Import client\n",
    "from dask.distributed import Client \n",
    "\n",
    "# Instantiate the Client\n",
    "client = Client() "
   ]
  },
  {
   "cell_type": "code",
   "execution_count": 28,
   "metadata": {},
   "outputs": [
    {
     "name": "stdout",
     "output_type": "stream",
     "text": [
      "Accuracy: 0.92\n"
     ]
    }
   ],
   "source": [
    "# import dask_ml.joblib\n",
    "from sklearn.externals.joblib import parallel_backend\n",
    "\n",
    "with parallel_backend('dask'):\n",
    "    # Write normal scikit-learn code here\n",
    "    from sklearn.ensemble import RandomForestClassifier \n",
    "    from sklearn.metrics import accuracy_score\n",
    "    from sklearn.model_selection import train_test_split\n",
    "    \n",
    "    # Split data into training and testing set\n",
    "    X_train, X_test, y_train, y_test = train_test_split(data, label, \n",
    "                                                    test_size=0.2, \n",
    "                                                    random_state=0)\n",
    "    # Instantiate RandomForest Model\n",
    "    model = RandomForestClassifier()\n",
    "    \n",
    "    # Fit the model\n",
    "    model.fit(X_train,y_train)\n",
    "    \n",
    "    # Predict the classes\n",
    "    y_pred = model.predict(X_test)\n",
    "    \n",
    "    # Find model accuracy\n",
    "    print(\"Accuracy:\",accuracy_score(y_test, y_pred))"
   ]
  },
  {
   "cell_type": "markdown",
   "metadata": {},
   "source": [
    "### Reimplementing ML Algorithms for Dask"
   ]
  },
  {
   "cell_type": "code",
   "execution_count": 19,
   "metadata": {},
   "outputs": [
    {
     "data": {
      "text/html": [
       "<div>\n",
       "<style scoped>\n",
       "    .dataframe tbody tr th:only-of-type {\n",
       "        vertical-align: middle;\n",
       "    }\n",
       "\n",
       "    .dataframe tbody tr th {\n",
       "        vertical-align: top;\n",
       "    }\n",
       "\n",
       "    .dataframe thead th {\n",
       "        text-align: right;\n",
       "    }\n",
       "</style>\n",
       "<table border=\"1\" class=\"dataframe\">\n",
       "  <thead>\n",
       "    <tr style=\"text-align: right;\">\n",
       "      <th></th>\n",
       "      <th>satisfaction_level</th>\n",
       "      <th>last_evaluation</th>\n",
       "      <th>number_project</th>\n",
       "      <th>average_montly_hours</th>\n",
       "      <th>time_spend_company</th>\n",
       "      <th>Work_accident</th>\n",
       "      <th>left</th>\n",
       "      <th>promotion_last_5years</th>\n",
       "      <th>Departments</th>\n",
       "      <th>salary</th>\n",
       "    </tr>\n",
       "  </thead>\n",
       "  <tbody>\n",
       "    <tr>\n",
       "      <th>0</th>\n",
       "      <td>0.38</td>\n",
       "      <td>0.53</td>\n",
       "      <td>2</td>\n",
       "      <td>157</td>\n",
       "      <td>3</td>\n",
       "      <td>0</td>\n",
       "      <td>1</td>\n",
       "      <td>0</td>\n",
       "      <td>sales</td>\n",
       "      <td>low</td>\n",
       "    </tr>\n",
       "    <tr>\n",
       "      <th>1</th>\n",
       "      <td>0.80</td>\n",
       "      <td>0.86</td>\n",
       "      <td>5</td>\n",
       "      <td>262</td>\n",
       "      <td>6</td>\n",
       "      <td>0</td>\n",
       "      <td>1</td>\n",
       "      <td>0</td>\n",
       "      <td>sales</td>\n",
       "      <td>medium</td>\n",
       "    </tr>\n",
       "    <tr>\n",
       "      <th>2</th>\n",
       "      <td>0.11</td>\n",
       "      <td>0.88</td>\n",
       "      <td>7</td>\n",
       "      <td>272</td>\n",
       "      <td>4</td>\n",
       "      <td>0</td>\n",
       "      <td>1</td>\n",
       "      <td>0</td>\n",
       "      <td>sales</td>\n",
       "      <td>medium</td>\n",
       "    </tr>\n",
       "    <tr>\n",
       "      <th>3</th>\n",
       "      <td>0.72</td>\n",
       "      <td>0.87</td>\n",
       "      <td>5</td>\n",
       "      <td>223</td>\n",
       "      <td>5</td>\n",
       "      <td>0</td>\n",
       "      <td>1</td>\n",
       "      <td>0</td>\n",
       "      <td>sales</td>\n",
       "      <td>low</td>\n",
       "    </tr>\n",
       "    <tr>\n",
       "      <th>4</th>\n",
       "      <td>0.37</td>\n",
       "      <td>0.52</td>\n",
       "      <td>2</td>\n",
       "      <td>159</td>\n",
       "      <td>3</td>\n",
       "      <td>0</td>\n",
       "      <td>1</td>\n",
       "      <td>0</td>\n",
       "      <td>sales</td>\n",
       "      <td>low</td>\n",
       "    </tr>\n",
       "  </tbody>\n",
       "</table>\n",
       "</div>"
      ],
      "text/plain": [
       "   satisfaction_level  last_evaluation  number_project  average_montly_hours  \\\n",
       "0                0.38             0.53               2                   157   \n",
       "1                0.80             0.86               5                   262   \n",
       "2                0.11             0.88               7                   272   \n",
       "3                0.72             0.87               5                   223   \n",
       "4                0.37             0.52               2                   159   \n",
       "\n",
       "   time_spend_company  Work_accident  left  promotion_last_5years  \\\n",
       "0                   3              0     1                      0   \n",
       "1                   6              0     1                      0   \n",
       "2                   4              0     1                      0   \n",
       "3                   5              0     1                      0   \n",
       "4                   3              0     1                      0   \n",
       "\n",
       "  Departments   salary  \n",
       "0        sales     low  \n",
       "1        sales  medium  \n",
       "2        sales  medium  \n",
       "3        sales     low  \n",
       "4        sales     low  "
      ]
     },
     "execution_count": 19,
     "metadata": {},
     "output_type": "execute_result"
    }
   ],
   "source": [
    "# Read CSV file using Dask\n",
    "import dask.dataframe as dd\n",
    "\n",
    "# Read Human Resource Data\n",
    "ddf = dd.read_csv(\"HR_comma_sep.csv\")\n",
    "\n",
    "# Let's see top 5 records\n",
    "ddf.head()"
   ]
  },
  {
   "cell_type": "code",
   "execution_count": 20,
   "metadata": {},
   "outputs": [],
   "source": [
    "data=ddf[['satisfaction_level', 'last_evaluation']].to_dask_array(lengths=True)\n",
    "label=ddf['left'].to_dask_array(lengths=True)"
   ]
  },
  {
   "cell_type": "code",
   "execution_count": 27,
   "metadata": {},
   "outputs": [],
   "source": [
    "# Import Dask based LogisticRegression \n",
    "from dask_ml.linear_model import LogisticRegression\n",
    "\n",
    "# Import accuracy score metric\n",
    "from sklearn.metrics import accuracy_score\n",
    "\n",
    "# Import Dask based train_test_split\n",
    "from dask_ml.model_selection import train_test_split\n",
    "\n",
    "# Divide the data into two parts: training and testing set\n",
    "X_train, X_test, y_train, y_test = train_test_split(data, label)"
   ]
  },
  {
   "cell_type": "code",
   "execution_count": 28,
   "metadata": {},
   "outputs": [
    {
     "name": "stdout",
     "output_type": "stream",
     "text": [
      "Accuracy: 0.752\n"
     ]
    }
   ],
   "source": [
    "# Create logistic regression model\n",
    "model = LogisticRegression()\n",
    "\n",
    "# Fit the model\n",
    "model.fit(X_train,y_train)\n",
    "\n",
    "# Predict the classes\n",
    "y_pred = model.predict(X_test)\n",
    "\n",
    "# Find model accuracy\n",
    "print(\"Accuracy:\",accuracy_score(y_test, y_pred))"
   ]
  },
  {
   "cell_type": "markdown",
   "metadata": {},
   "source": [
    "### Clustering"
   ]
  },
  {
   "cell_type": "code",
   "execution_count": 33,
   "metadata": {},
   "outputs": [
    {
     "data": {
      "text/html": [
       "<div>\n",
       "<style scoped>\n",
       "    .dataframe tbody tr th:only-of-type {\n",
       "        vertical-align: middle;\n",
       "    }\n",
       "\n",
       "    .dataframe tbody tr th {\n",
       "        vertical-align: top;\n",
       "    }\n",
       "\n",
       "    .dataframe thead th {\n",
       "        text-align: right;\n",
       "    }\n",
       "</style>\n",
       "<table border=\"1\" class=\"dataframe\">\n",
       "  <thead>\n",
       "    <tr style=\"text-align: right;\">\n",
       "      <th></th>\n",
       "      <th>satisfaction_level</th>\n",
       "      <th>last_evaluation</th>\n",
       "      <th>number_project</th>\n",
       "      <th>average_montly_hours</th>\n",
       "      <th>time_spend_company</th>\n",
       "      <th>Work_accident</th>\n",
       "      <th>left</th>\n",
       "      <th>promotion_last_5years</th>\n",
       "      <th>Departments</th>\n",
       "      <th>salary</th>\n",
       "    </tr>\n",
       "  </thead>\n",
       "  <tbody>\n",
       "    <tr>\n",
       "      <th>0</th>\n",
       "      <td>0.38</td>\n",
       "      <td>0.53</td>\n",
       "      <td>2</td>\n",
       "      <td>157</td>\n",
       "      <td>3</td>\n",
       "      <td>0</td>\n",
       "      <td>1</td>\n",
       "      <td>0</td>\n",
       "      <td>sales</td>\n",
       "      <td>low</td>\n",
       "    </tr>\n",
       "    <tr>\n",
       "      <th>1</th>\n",
       "      <td>0.80</td>\n",
       "      <td>0.86</td>\n",
       "      <td>5</td>\n",
       "      <td>262</td>\n",
       "      <td>6</td>\n",
       "      <td>0</td>\n",
       "      <td>1</td>\n",
       "      <td>0</td>\n",
       "      <td>sales</td>\n",
       "      <td>medium</td>\n",
       "    </tr>\n",
       "    <tr>\n",
       "      <th>2</th>\n",
       "      <td>0.11</td>\n",
       "      <td>0.88</td>\n",
       "      <td>7</td>\n",
       "      <td>272</td>\n",
       "      <td>4</td>\n",
       "      <td>0</td>\n",
       "      <td>1</td>\n",
       "      <td>0</td>\n",
       "      <td>sales</td>\n",
       "      <td>medium</td>\n",
       "    </tr>\n",
       "    <tr>\n",
       "      <th>3</th>\n",
       "      <td>0.72</td>\n",
       "      <td>0.87</td>\n",
       "      <td>5</td>\n",
       "      <td>223</td>\n",
       "      <td>5</td>\n",
       "      <td>0</td>\n",
       "      <td>1</td>\n",
       "      <td>0</td>\n",
       "      <td>sales</td>\n",
       "      <td>low</td>\n",
       "    </tr>\n",
       "    <tr>\n",
       "      <th>4</th>\n",
       "      <td>0.37</td>\n",
       "      <td>0.52</td>\n",
       "      <td>2</td>\n",
       "      <td>159</td>\n",
       "      <td>3</td>\n",
       "      <td>0</td>\n",
       "      <td>1</td>\n",
       "      <td>0</td>\n",
       "      <td>sales</td>\n",
       "      <td>low</td>\n",
       "    </tr>\n",
       "  </tbody>\n",
       "</table>\n",
       "</div>"
      ],
      "text/plain": [
       "   satisfaction_level  last_evaluation  number_project  average_montly_hours  \\\n",
       "0                0.38             0.53               2                   157   \n",
       "1                0.80             0.86               5                   262   \n",
       "2                0.11             0.88               7                   272   \n",
       "3                0.72             0.87               5                   223   \n",
       "4                0.37             0.52               2                   159   \n",
       "\n",
       "   time_spend_company  Work_accident  left  promotion_last_5years  \\\n",
       "0                   3              0     1                      0   \n",
       "1                   6              0     1                      0   \n",
       "2                   4              0     1                      0   \n",
       "3                   5              0     1                      0   \n",
       "4                   3              0     1                      0   \n",
       "\n",
       "  Departments   salary  \n",
       "0        sales     low  \n",
       "1        sales  medium  \n",
       "2        sales  medium  \n",
       "3        sales     low  \n",
       "4        sales     low  "
      ]
     },
     "execution_count": 33,
     "metadata": {},
     "output_type": "execute_result"
    }
   ],
   "source": [
    "# Read CSV file using Dask\n",
    "import dask.dataframe as dd\n",
    "\n",
    "# Read Human Resource Data\n",
    "ddf = dd.read_csv(\"HR_comma_sep.csv\")\n",
    "\n",
    "# Let's see top 5 records\n",
    "ddf.head()"
   ]
  },
  {
   "cell_type": "code",
   "execution_count": 34,
   "metadata": {},
   "outputs": [],
   "source": [
    "data=ddf[['satisfaction_level', 'last_evaluation']].to_dask_array(lengths=True)"
   ]
  },
  {
   "cell_type": "code",
   "execution_count": 35,
   "metadata": {},
   "outputs": [
    {
     "data": {
      "text/plain": [
       "array([2, 1, 0, ..., 2, 0, 2], dtype=int32)"
      ]
     },
     "execution_count": 35,
     "metadata": {},
     "output_type": "execute_result"
    }
   ],
   "source": [
    "# Import Dask based Kmeans\n",
    "from dask_ml.cluster import KMeans\n",
    "\n",
    "# Create the Kmeans model\n",
    "model=KMeans(n_clusters=3)\n",
    "\n",
    "# Fit the model \n",
    "model.fit(data)\n",
    "\n",
    "# Predict the classes\n",
    "label=model.labels_\n",
    "\n",
    "# Compute the results\n",
    "label.compute()"
   ]
  },
  {
   "cell_type": "code",
   "execution_count": 37,
   "metadata": {
    "colab": {},
    "colab_type": "code",
    "id": "dV_zRIElawQg",
    "outputId": "d39cfd0f-c59d-455d-b5c9-151648225d38"
   },
   "outputs": [
    {
     "data": {
      "image/png": "[encoded data removed]",
      "text/plain": [
       "<Figure size 432x288 with 1 Axes>"
      ]
     },
     "metadata": {
      "needs_background": "light"
     },
     "output_type": "display_data"
    }
   ],
   "source": [
    "# Import matplotlib.pylpot\n",
    "import matplotlib.pyplot as plt\n",
    "\n",
    "# Prepare x,y and cluster_labels\n",
    "x=data[:,0].compute()\n",
    "y=data[:,1].compute()\n",
    "cluster_labels=label.compute()\n",
    "\n",
    "# Draw scatter plot\n",
    "plt.scatter(x,y, c=cluster_labels)\n",
    "\n",
    "# Add label on X-axis\n",
    "plt.xlabel('Satisfaction Level')\n",
    "\n",
    "# Add label on X-axis\n",
    "plt.ylabel('Performance Level')\n",
    "\n",
    "# Add a title to the graph\n",
    "plt.title('Groups of employees who left the Company')\n",
    "\n",
    "# Show the plot\n",
    "plt.show()"
   ]
  },
  {
   "cell_type": "code",
   "execution_count": null,
   "metadata": {},
   "outputs": [],
   "source": []
  }
 ],
 "metadata": {
  "colab": {
   "collapsed_sections": [],
   "name": "Dask-1.ipynb",
   "provenance": []
  },
  "kernelspec": {
   "display_name": "Python 3",
   "language": "python",
   "name": "python3"
  },
  "language_info": {
   "codemirror_mode": {
    "name": "ipython",
    "version": 3
   },
   "file_extension": ".py",
   "mimetype": "text/x-python",
   "name": "python",
   "nbconvert_exporter": "python",
   "pygments_lexer": "ipython3",
   "version": "3.7.3"
  }
 },
 "nbformat": 4,
 "nbformat_minor": 1
}
